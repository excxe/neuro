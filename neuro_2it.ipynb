{
 "cells": [
  {
   "cell_type": "code",
   "execution_count": 20,
   "id": "f2b53792",
   "metadata": {},
   "outputs": [],
   "source": [
    "import pandas as pd\n",
    "import numpy as np\n",
    "import matplotlib.pyplot as plt\n",
    "import seaborn as sns\n",
    "\n",
    "from sklearn.model_selection import train_test_split\n",
    "from sklearn.metrics import classification_report, confusion_matrix, accuracy_score, f1_score, precision_score, recall_score\n",
    "from sklearn.feature_extraction.text import TfidfVectorizer\n",
    "import os\n",
    "os.environ[\"CUDA_LAUNCH_BLOCKING\"] = \"1\"   # Force CUDA to be synchronous\n",
    "\n",
    "import torch\n",
    "from transformers import AutoTokenizer, AutoModelForSequenceClassification, Trainer, TrainingArguments\n",
    "\n",
    "from tqdm.notebook import tqdm\n",
    "import re\n",
    "from datasets import Dataset\n",
    "from wordcloud import WordCloud\n",
    "from scipy.stats import t"
   ]
  },
  {
   "cell_type": "markdown",
   "id": "eb809c33",
   "metadata": {},
   "source": [
    "## 1. Data Loading and Initial Exploration\n",
    "\n",
    "In this section, we load the training dataset and perform an initial exploratory analysis:  \n",
    "- Check the shape and structure of the data  \n",
    "- View several sample rows  \n",
    "- Visualize class and year distributions  \n",
    "- Calculate the average and median length of texts\n"
   ]
  },
  {
   "cell_type": "code",
   "execution_count": 2,
   "id": "78aeda4a",
   "metadata": {},
   "outputs": [],
   "source": [
    "DATASET = pd.read_csv(\"train.csv\")"
   ]
  },
  {
   "cell_type": "code",
   "execution_count": 3,
   "id": "361a4c89",
   "metadata": {},
   "outputs": [
    {
     "name": "stdout",
     "output_type": "stream",
     "text": [
      "Number of samples: 216974\n",
      "Columns: ['id', 'text', 'class', 'year']\n",
      "Number of unique classes: 21\n",
      "Years in the dataset: [2013, 2014, 2015, 2016, 2017, 2018, 2019, 2020]\n"
     ]
    },
    {
     "data": {
      "text/html": [
       "<div>\n",
       "<style scoped>\n",
       "    .dataframe tbody tr th:only-of-type {\n",
       "        vertical-align: middle;\n",
       "    }\n",
       "\n",
       "    .dataframe tbody tr th {\n",
       "        vertical-align: top;\n",
       "    }\n",
       "\n",
       "    .dataframe thead th {\n",
       "        text-align: right;\n",
       "    }\n",
       "</style>\n",
       "<table border=\"1\" class=\"dataframe\">\n",
       "  <thead>\n",
       "    <tr style=\"text-align: right;\">\n",
       "      <th></th>\n",
       "      <th>id</th>\n",
       "      <th>text</th>\n",
       "      <th>class</th>\n",
       "      <th>year</th>\n",
       "    </tr>\n",
       "  </thead>\n",
       "  <tbody>\n",
       "    <tr>\n",
       "      <th>165632</th>\n",
       "      <td>165632</td>\n",
       "      <td>Substitució de l'alcalde durant la seva absència.</td>\n",
       "      <td>9</td>\n",
       "      <td>2018</td>\n",
       "    </tr>\n",
       "    <tr>\n",
       "      <th>33412</th>\n",
       "      <td>33412</td>\n",
       "      <td>Aprovació definitiva del pressupost del 2013.</td>\n",
       "      <td>12</td>\n",
       "      <td>2013</td>\n",
       "    </tr>\n",
       "    <tr>\n",
       "      <th>125336</th>\n",
       "      <td>125336</td>\n",
       "      <td>Aprovació definitiva del pressupost únic 2017 ...</td>\n",
       "      <td>12</td>\n",
       "      <td>2017</td>\n",
       "    </tr>\n",
       "    <tr>\n",
       "      <th>128889</th>\n",
       "      <td>128889</td>\n",
       "      <td>Aprovació de les bases reguladores del II Prem...</td>\n",
       "      <td>15</td>\n",
       "      <td>2017</td>\n",
       "    </tr>\n",
       "    <tr>\n",
       "      <th>17415</th>\n",
       "      <td>17415</td>\n",
       "      <td>Exposició al públic del compte general de l'ex...</td>\n",
       "      <td>12</td>\n",
       "      <td>2013</td>\n",
       "    </tr>\n",
       "    <tr>\n",
       "      <th>98645</th>\n",
       "      <td>98645</td>\n",
       "      <td>Baixes del Padró Municipal d'Habitants.</td>\n",
       "      <td>10</td>\n",
       "      <td>2015</td>\n",
       "    </tr>\n",
       "    <tr>\n",
       "      <th>162726</th>\n",
       "      <td>162726</td>\n",
       "      <td>Aprovació definitiva del conveni urbanístic en...</td>\n",
       "      <td>17</td>\n",
       "      <td>2018</td>\n",
       "    </tr>\n",
       "    <tr>\n",
       "      <th>65692</th>\n",
       "      <td>65692</td>\n",
       "      <td>Notificación de acuerdo de inicio de expedient...</td>\n",
       "      <td>14</td>\n",
       "      <td>2014</td>\n",
       "    </tr>\n",
       "    <tr>\n",
       "      <th>197564</th>\n",
       "      <td>197564</td>\n",
       "      <td>Convocatòria de subvencions de l'IBI 2019 per ...</td>\n",
       "      <td>15</td>\n",
       "      <td>2020</td>\n",
       "    </tr>\n",
       "    <tr>\n",
       "      <th>59550</th>\n",
       "      <td>59550</td>\n",
       "      <td>Notificació a un particular.</td>\n",
       "      <td>19</td>\n",
       "      <td>2014</td>\n",
       "    </tr>\n",
       "  </tbody>\n",
       "</table>\n",
       "</div>"
      ],
      "text/plain": [
       "            id                                               text  class  year\n",
       "165632  165632  Substitució de l'alcalde durant la seva absència.      9  2018\n",
       "33412    33412      Aprovació definitiva del pressupost del 2013.     12  2013\n",
       "125336  125336  Aprovació definitiva del pressupost únic 2017 ...     12  2017\n",
       "128889  128889  Aprovació de les bases reguladores del II Prem...     15  2017\n",
       "17415    17415  Exposició al públic del compte general de l'ex...     12  2013\n",
       "98645    98645            Baixes del Padró Municipal d'Habitants.     10  2015\n",
       "162726  162726  Aprovació definitiva del conveni urbanístic en...     17  2018\n",
       "65692    65692  Notificación de acuerdo de inicio de expedient...     14  2014\n",
       "197564  197564  Convocatòria de subvencions de l'IBI 2019 per ...     15  2020\n",
       "59550    59550                       Notificació a un particular.     19  2014"
      ]
     },
     "metadata": {},
     "output_type": "display_data"
    }
   ],
   "source": [
    "df = DATASET\n",
    "\n",
    "print(\"Number of samples:\", len(df))\n",
    "print(\"Columns:\", df.columns.tolist())\n",
    "print(\"Number of unique classes:\", df['class'].nunique())\n",
    "print(\"Years in the dataset:\", sorted(df['year'].unique()))\n",
    "\n",
    "display(df.sample(10))\n"
   ]
  },
  {
   "cell_type": "code",
   "execution_count": 4,
   "id": "23239129",
   "metadata": {},
   "outputs": [
    {
     "data": {
      "image/png": "[encoded data removed]",
      "text/plain": [
       "<Figure size 1000x400 with 1 Axes>"
      ]
     },
     "metadata": {},
     "output_type": "display_data"
    },
    {
     "data": {
      "image/png": "[encoded data removed]",
      "text/plain": [
       "<Figure size 1000x400 with 1 Axes>"
      ]
     },
     "metadata": {},
     "output_type": "display_data"
    },
    {
     "data": {
      "image/png": "[encoded data removed]",
      "text/plain": [
       "<Figure size 1400x600 with 1 Axes>"
      ]
     },
     "metadata": {},
     "output_type": "display_data"
    }
   ],
   "source": [
    "# Distribution of samples across classes to identify any class imbalance, which can affect training and evaluation.\n",
    "plt.figure(figsize=(10,4))\n",
    "sns.countplot(x='class', data=df)\n",
    "plt.title('Distribution by Class')\n",
    "plt.xlabel('Class')\n",
    "plt.ylabel('Count')\n",
    "plt.show()\n",
    "\n",
    "# Distribution of samples by year to check for temporal patterns or data skews that may influence model generalization.\n",
    "plt.figure(figsize=(10,4))\n",
    "sns.countplot(x='year', data=df)\n",
    "plt.title('Distribution by Year')\n",
    "plt.xlabel('Year')\n",
    "plt.ylabel('Count')\n",
    "plt.show()\n",
    "\n",
    "# Distribution of classes within each year\n",
    "plt.figure(figsize=(14,6))\n",
    "sns.countplot(x='year', hue='class', data=df)\n",
    "plt.title('Class Distribution by Year')\n",
    "plt.xlabel('Year')\n",
    "plt.ylabel('Count')\n",
    "plt.legend(title='Class', bbox_to_anchor=(1.05, 1), loc='upper left')\n",
    "plt.show()\n"
   ]
  },
  {
   "cell_type": "code",
   "execution_count": 5,
   "id": "12ee5d8c",
   "metadata": {},
   "outputs": [
    {
     "name": "stdout",
     "output_type": "stream",
     "text": [
      "Average text length (characters): 99.16521334353425\n",
      "Median text length (characters): 94.0\n",
      "Average text length (words): 14.576990791523409\n",
      "Median text length (words): 14.0\n"
     ]
    }
   ],
   "source": [
    "# Compute the length of each text in characters; this helps in understanding text size variability and guides preprocessing (e.g., max sequence length for BERT).\n",
    "df['text_len_chars'] = df['text'].str.len()\n",
    "\n",
    "# Compute the length of each text in words to get additional statistics about text complexity and to compare with character-based length.\n",
    "df['text_len_words'] = df['text'].str.split().apply(len)\n",
    "\n",
    "# Output average and median values to summarize dataset and support decisions on padding/truncation for modeling.\n",
    "print(\"Average text length (characters):\", df['text_len_chars'].mean())\n",
    "print(\"Median text length (characters):\", df['text_len_chars'].median())\n",
    "print(\"Average text length (words):\", df['text_len_words'].mean())\n",
    "print(\"Median text length (words):\", df['text_len_words'].median())\n"
   ]
  },
  {
   "cell_type": "markdown",
   "id": "b861554a",
   "metadata": {},
   "source": [
    "### Summary of Data Exploration\n",
    "\n",
    "- The dataset shows a strong class imbalance:\n",
    "  - Classes 0 and 12 are much more frequent than others.\n",
    "  - Several classes (such as 5, 7, 13, 15, and 20) have very few samples, which may lead to poor generalization for these classes.\n",
    "- The average text is short (~99 characters or ~14 words).\n",
    "- Year distribution is skewed toward earlier years (2013–2014).\n",
    "\n",
    "**To mitigate the impact of class imbalance, we will:**\n",
    "- Use stratified train/validation split to preserve class proportions during training and evaluation.\n",
    "- Monitor not only overall accuracy but also macro-F1 and the confusion matrix to assess performance across all classes, including minority ones.\n",
    "- Consider implementing class weights in the loss function if we observe poor recognition of rare classes during validation.\n"
   ]
  },
  {
   "cell_type": "markdown",
   "id": "c80c3265",
   "metadata": {},
   "source": [
    "## 2. Text Cleaning and Basic Preprocessing\n",
    "\n",
    "In this section:\n",
    "- Convert all texts to lowercase.\n",
    "- Remove special characters, keeping only letters, numbers, and spaces.\n",
    "- Stopwords (including Catalan function words) are intentionally preserved, as transformer-based models benefit from full sentence structure.\n",
    "- Analyze how text cleaning affects text length and update statistics."
   ]
  },
  {
   "cell_type": "code",
   "execution_count": 6,
   "id": "9ac0e474",
   "metadata": {},
   "outputs": [],
   "source": [
    "def clean_text(text):\n",
    "    # Convert all characters to lowercase for normalization and to reduce vocabulary size for the model.\n",
    "    text = text.lower()\n",
    "    # Remove all characters except letters (including accented), digits, and spaces to standardize input for tokenization.\n",
    "    text = re.sub(r'[^a-zà-ÿ0-9\\s]', '', text)\n",
    "    # Replace multiple consecutive spaces with a single space and trim edges to avoid artificial token inflation.\n",
    "    text = re.sub(r'\\s+', ' ', text).strip()\n",
    "    return text"
   ]
  },
  {
   "cell_type": "code",
   "execution_count": 7,
   "id": "e62e7994",
   "metadata": {},
   "outputs": [],
   "source": [
    "df['clean_text'] = df['text'].apply(clean_text)"
   ]
  },
  {
   "cell_type": "markdown",
   "id": "c5213cc2",
   "metadata": {},
   "source": [
    "### Analyze the Effect of Text Cleaning\n",
    "\n",
    "Compare average and median lengths of original and cleaned texts to understand the impact of preprocessing.\n"
   ]
  },
  {
   "cell_type": "code",
   "execution_count": 8,
   "id": "b71f9cf6",
   "metadata": {},
   "outputs": [
    {
     "name": "stdout",
     "output_type": "stream",
     "text": [
      "Average cleaned text length (characters): 96.20189515794519\n",
      "Median cleaned text length (characters): 92.0\n",
      "Average cleaned text length (words): 14.565832772590264\n",
      "Median cleaned text length (words): 14.0\n"
     ]
    }
   ],
   "source": [
    "# Recalculate character and word lengths after cleaning to check if cleaning significantly shortens the text or changes its structure.\n",
    "df['clean_len_chars'] = df['clean_text'].str.len()\n",
    "df['clean_len_words'] = df['clean_text'].str.split().apply(len)\n",
    "\n",
    "# Print updated statistics to support decisions about input sequence length for the model.\n",
    "print(\"Average cleaned text length (characters):\", df['clean_len_chars'].mean())\n",
    "print(\"Median cleaned text length (characters):\", df['clean_len_chars'].median())\n",
    "print(\"Average cleaned text length (words):\", df['clean_len_words'].mean())\n",
    "print(\"Median cleaned text length (words):\", df['clean_len_words'].median())"
   ]
  },
  {
   "cell_type": "markdown",
   "id": "980f1d2c",
   "metadata": {},
   "source": [
    "### Conclusion\n",
    "\n",
    "No significant changes in text length after cleaning.\n"
   ]
  },
  {
   "cell_type": "markdown",
   "id": "670b4fbf",
   "metadata": {},
   "source": [
    "### Summary of Model Improvement Process After First Iteration\n",
    "\n",
    "After the first iteration of model training and confusion matrix analysis, we detected a systematic bias: certain class pairs were repeatedly confused by the models. These errors were most pronounced in classes with broad or overlapping language, as well as in minority categories.\n",
    "\n",
    "To mitigate this, we decided to augment each input by appending automatically extracted TF-IDF keywords to the cleaned text. This strategy is intended to explicitly signal the most informative terms to the model, helping it better separate semantically similar classes and giving more prominence to underrepresented ones, all without altering the underlying model architecture or requiring manual intervention.\n"
   ]
  },
  {
   "cell_type": "code",
   "execution_count": 9,
   "id": "8334e642",
   "metadata": {},
   "outputs": [],
   "source": [
    "# fit TF-IDF on existing cleaned texts\n",
    "vectorizer = TfidfVectorizer(max_features=5000)\n",
    "tfidf_matrix = vectorizer.fit_transform(df['clean_text'])\n",
    "feature_names = np.array(vectorizer.get_feature_names_out())\n",
    "\n",
    "# extract top-n keywords per document\n",
    "def extract_top_n(row, features, n=3):\n",
    "    indices = np.argsort(row.toarray().ravel())[-n:]\n",
    "    return features[indices]\n",
    "\n",
    "df['keywords'] = [\n",
    "    extract_top_n(tfidf_matrix[i], feature_names, n=5).tolist()\n",
    "    for i in range(len(df))\n",
    "]\n",
    "\n",
    "# append keywords to clean_text for model input\n",
    "df['model_input'] = df['clean_text'] + ' [KEYWORDS] ' + df['keywords'].str.join(' ')\n"
   ]
  },
  {
   "cell_type": "code",
   "execution_count": 10,
   "id": "72db783d",
   "metadata": {},
   "outputs": [
    {
     "data": {
      "text/html": [
       "<div>\n",
       "<style scoped>\n",
       "    .dataframe tbody tr th:only-of-type {\n",
       "        vertical-align: middle;\n",
       "    }\n",
       "\n",
       "    .dataframe tbody tr th {\n",
       "        vertical-align: top;\n",
       "    }\n",
       "\n",
       "    .dataframe thead th {\n",
       "        text-align: right;\n",
       "    }\n",
       "</style>\n",
       "<table border=\"1\" class=\"dataframe\">\n",
       "  <thead>\n",
       "    <tr style=\"text-align: right;\">\n",
       "      <th></th>\n",
       "      <th>id</th>\n",
       "      <th>text</th>\n",
       "      <th>class</th>\n",
       "      <th>year</th>\n",
       "      <th>text_len_chars</th>\n",
       "      <th>text_len_words</th>\n",
       "      <th>clean_text</th>\n",
       "      <th>clean_len_chars</th>\n",
       "      <th>clean_len_words</th>\n",
       "      <th>keywords</th>\n",
       "      <th>model_input</th>\n",
       "    </tr>\n",
       "  </thead>\n",
       "  <tbody>\n",
       "    <tr>\n",
       "      <th>169230</th>\n",
       "      <td>169230</td>\n",
       "      <td>Formalització dels serveis de neteja i prepara...</td>\n",
       "      <td>0</td>\n",
       "      <td>2018</td>\n",
       "      <td>155</td>\n",
       "      <td>26</td>\n",
       "      <td>formalització dels serveis de neteja i prepara...</td>\n",
       "      <td>151</td>\n",
       "      <td>26</td>\n",
       "      <td>[piscines, temporada, llorenç, serveis, prepar...</td>\n",
       "      <td>formalització dels serveis de neteja i prepara...</td>\n",
       "    </tr>\n",
       "    <tr>\n",
       "      <th>179207</th>\n",
       "      <td>179207</td>\n",
       "      <td>Formalització del subministrament, muntatge i ...</td>\n",
       "      <td>0</td>\n",
       "      <td>2019</td>\n",
       "      <td>176</td>\n",
       "      <td>27</td>\n",
       "      <td>formalització del subministrament muntatge i p...</td>\n",
       "      <td>172</td>\n",
       "      <td>27</td>\n",
       "      <td>[posada, marxa, quadres, decantadors, 12]</td>\n",
       "      <td>formalització del subministrament muntatge i p...</td>\n",
       "    </tr>\n",
       "    <tr>\n",
       "      <th>24443</th>\n",
       "      <td>24443</td>\n",
       "      <td>Notificació d'expedients sancionadors.</td>\n",
       "      <td>14</td>\n",
       "      <td>2013</td>\n",
       "      <td>38</td>\n",
       "      <td>3</td>\n",
       "      <td>notificació dexpedients sancionadors</td>\n",
       "      <td>36</td>\n",
       "      <td>3</td>\n",
       "      <td>[desglossat, ús, notificació, sancionadors, de...</td>\n",
       "      <td>notificació dexpedients sancionadors [KEYWORDS...</td>\n",
       "    </tr>\n",
       "    <tr>\n",
       "      <th>5846</th>\n",
       "      <td>5846</td>\n",
       "      <td>Exposició pública d'un expedient per a l'autor...</td>\n",
       "      <td>17</td>\n",
       "      <td>2013</td>\n",
       "      <td>128</td>\n",
       "      <td>17</td>\n",
       "      <td>exposició pública dun expedient per a lautorit...</td>\n",
       "      <td>122</td>\n",
       "      <td>17</td>\n",
       "      <td>[exposició, installació, lautorització, magatz...</td>\n",
       "      <td>exposició pública dun expedient per a lautorit...</td>\n",
       "    </tr>\n",
       "    <tr>\n",
       "      <th>125292</th>\n",
       "      <td>125292</td>\n",
       "      <td>Aprovació definitiva de les bases reguladores ...</td>\n",
       "      <td>15</td>\n",
       "      <td>2017</td>\n",
       "      <td>178</td>\n",
       "      <td>25</td>\n",
       "      <td>aprovació definitiva de les bases reguladores ...</td>\n",
       "      <td>173</td>\n",
       "      <td>25</td>\n",
       "      <td>[20162017, temporada, pràctica, adreçades, pre...</td>\n",
       "      <td>aprovació definitiva de les bases reguladores ...</td>\n",
       "    </tr>\n",
       "    <tr>\n",
       "      <th>168544</th>\n",
       "      <td>168544</td>\n",
       "      <td>Aprovació inicial de la instrucció reguladora ...</td>\n",
       "      <td>17</td>\n",
       "      <td>2018</td>\n",
       "      <td>110</td>\n",
       "      <td>16</td>\n",
       "      <td>aprovació inicial de la instrucció reguladora ...</td>\n",
       "      <td>109</td>\n",
       "      <td>16</td>\n",
       "      <td>[municipi, sense, registre, solars, instrucció]</td>\n",
       "      <td>aprovació inicial de la instrucció reguladora ...</td>\n",
       "    </tr>\n",
       "    <tr>\n",
       "      <th>179871</th>\n",
       "      <td>179871</td>\n",
       "      <td>Aprovació de la delegació a favor de l'Àrea Me...</td>\n",
       "      <td>17</td>\n",
       "      <td>2019</td>\n",
       "      <td>136</td>\n",
       "      <td>21</td>\n",
       "      <td>aprovació de la delegació a favor de làrea met...</td>\n",
       "      <td>134</td>\n",
       "      <td>21</td>\n",
       "      <td>[làrea, funcions, favor, metropolitana, refere...</td>\n",
       "      <td>aprovació de la delegació a favor de làrea met...</td>\n",
       "    </tr>\n",
       "    <tr>\n",
       "      <th>139611</th>\n",
       "      <td>139611</td>\n",
       "      <td>Licitació de les obres d'arranjament del camí ...</td>\n",
       "      <td>0</td>\n",
       "      <td>2017</td>\n",
       "      <td>106</td>\n",
       "      <td>18</td>\n",
       "      <td>licitació de les obres darranjament del camí r...</td>\n",
       "      <td>103</td>\n",
       "      <td>18</td>\n",
       "      <td>[llorenç, termes, ral, gallifa, savall]</td>\n",
       "      <td>licitació de les obres darranjament del camí r...</td>\n",
       "    </tr>\n",
       "    <tr>\n",
       "      <th>106161</th>\n",
       "      <td>106161</td>\n",
       "      <td>Aprovació de les bases i convocatòria del proc...</td>\n",
       "      <td>6</td>\n",
       "      <td>2016</td>\n",
       "      <td>126</td>\n",
       "      <td>19</td>\n",
       "      <td>aprovació de les bases i convocatòria del proc...</td>\n",
       "      <td>121</td>\n",
       "      <td>19</td>\n",
       "      <td>[social, parcial, treballadora, temps, relleu]</td>\n",
       "      <td>aprovació de les bases i convocatòria del proc...</td>\n",
       "    </tr>\n",
       "    <tr>\n",
       "      <th>137886</th>\n",
       "      <td>137886</td>\n",
       "      <td>Aprovació inicial de l'Ordenança fiscal núm. 1...</td>\n",
       "      <td>2</td>\n",
       "      <td>2017</td>\n",
       "      <td>130</td>\n",
       "      <td>21</td>\n",
       "      <td>aprovació inicial de lordenança fiscal núm 18b...</td>\n",
       "      <td>126</td>\n",
       "      <td>21</td>\n",
       "      <td>[la, prestació, de, celebració, casaments]</td>\n",
       "      <td>aprovació inicial de lordenança fiscal núm 18b...</td>\n",
       "    </tr>\n",
       "  </tbody>\n",
       "</table>\n",
       "</div>"
      ],
      "text/plain": [
       "            id                                               text  class  \\\n",
       "169230  169230  Formalització dels serveis de neteja i prepara...      0   \n",
       "179207  179207  Formalització del subministrament, muntatge i ...      0   \n",
       "24443    24443             Notificació d'expedients sancionadors.     14   \n",
       "5846      5846  Exposició pública d'un expedient per a l'autor...     17   \n",
       "125292  125292  Aprovació definitiva de les bases reguladores ...     15   \n",
       "168544  168544  Aprovació inicial de la instrucció reguladora ...     17   \n",
       "179871  179871  Aprovació de la delegació a favor de l'Àrea Me...     17   \n",
       "139611  139611  Licitació de les obres d'arranjament del camí ...      0   \n",
       "106161  106161  Aprovació de les bases i convocatòria del proc...      6   \n",
       "137886  137886  Aprovació inicial de l'Ordenança fiscal núm. 1...      2   \n",
       "\n",
       "        year  text_len_chars  text_len_words  \\\n",
       "169230  2018             155              26   \n",
       "179207  2019             176              27   \n",
       "24443   2013              38               3   \n",
       "5846    2013             128              17   \n",
       "125292  2017             178              25   \n",
       "168544  2018             110              16   \n",
       "179871  2019             136              21   \n",
       "139611  2017             106              18   \n",
       "106161  2016             126              19   \n",
       "137886  2017             130              21   \n",
       "\n",
       "                                               clean_text  clean_len_chars  \\\n",
       "169230  formalització dels serveis de neteja i prepara...              151   \n",
       "179207  formalització del subministrament muntatge i p...              172   \n",
       "24443                notificació dexpedients sancionadors               36   \n",
       "5846    exposició pública dun expedient per a lautorit...              122   \n",
       "125292  aprovació definitiva de les bases reguladores ...              173   \n",
       "168544  aprovació inicial de la instrucció reguladora ...              109   \n",
       "179871  aprovació de la delegació a favor de làrea met...              134   \n",
       "139611  licitació de les obres darranjament del camí r...              103   \n",
       "106161  aprovació de les bases i convocatòria del proc...              121   \n",
       "137886  aprovació inicial de lordenança fiscal núm 18b...              126   \n",
       "\n",
       "        clean_len_words                                           keywords  \\\n",
       "169230               26  [piscines, temporada, llorenç, serveis, prepar...   \n",
       "179207               27          [posada, marxa, quadres, decantadors, 12]   \n",
       "24443                 3  [desglossat, ús, notificació, sancionadors, de...   \n",
       "5846                 17  [exposició, installació, lautorització, magatz...   \n",
       "125292               25  [20162017, temporada, pràctica, adreçades, pre...   \n",
       "168544               16    [municipi, sense, registre, solars, instrucció]   \n",
       "179871               21  [làrea, funcions, favor, metropolitana, refere...   \n",
       "139611               18            [llorenç, termes, ral, gallifa, savall]   \n",
       "106161               19     [social, parcial, treballadora, temps, relleu]   \n",
       "137886               21         [la, prestació, de, celebració, casaments]   \n",
       "\n",
       "                                              model_input  \n",
       "169230  formalització dels serveis de neteja i prepara...  \n",
       "179207  formalització del subministrament muntatge i p...  \n",
       "24443   notificació dexpedients sancionadors [KEYWORDS...  \n",
       "5846    exposició pública dun expedient per a lautorit...  \n",
       "125292  aprovació definitiva de les bases reguladores ...  \n",
       "168544  aprovació inicial de la instrucció reguladora ...  \n",
       "179871  aprovació de la delegació a favor de làrea met...  \n",
       "139611  licitació de les obres darranjament del camí r...  \n",
       "106161  aprovació de les bases i convocatòria del proc...  \n",
       "137886  aprovació inicial de lordenança fiscal núm 18b...  "
      ]
     },
     "execution_count": 10,
     "metadata": {},
     "output_type": "execute_result"
    }
   ],
   "source": [
    "df.sample(10)"
   ]
  },
  {
   "cell_type": "code",
   "execution_count": 11,
   "id": "01456676",
   "metadata": {},
   "outputs": [
    {
     "name": "stdout",
     "output_type": "stream",
     "text": [
      "201819                         aprovació de les bases de subvenciones en règim de concurrència competitiva a entitats municipals per a lany 2020 versió en català [KEYWORDS] en competitiva versió subvenciones català\n",
      "205657                                                         aprovació de la convocatòria i de les bases del procés selectiu per crear una borsa deducadora social [KEYWORDS] borsa selectiu social deducadora crear\n",
      "140068                                                        adjudicació del contracte dobra material del projecte de lestació de tractament daigua potable etap [KEYWORDS] material potable tractament lestació etap\n",
      "138485    resolució del tancament dadmissió de sollicituds dinformes didoneïtat del programa de millora de laccessibilitat de lany 2017 a làmbit de lamb [KEYWORDS] tancament laccessibilitat lamb dadmissió dinformes\n",
      "170411                                                                           bases i convocatòria per a la creació duna borsa de treball de treballador social [KEYWORDS] treball borsa creació social treballador\n",
      "72143                                                                                                       notificació dincoació dun expedient sancionador [KEYWORDS] notificació dun expedient sancionador dincoació\n",
      "136611                                                                                                                 aprovació definitiva del pressupost de 2017 [KEYWORDS] del aprovació definitiva pressupost 2017\n",
      "212332                                                                 aprovació provisional de la modificació de les ordenances fiscals per a lexercici 2021 [KEYWORDS] lexercici ordenances provisional fiscals 2021\n",
      "55720                                                                                                                           baixes del padró municipal dhabitants [KEYWORDS] del municipal padró dhabitants baixes\n",
      "196031                                                                                                          aprovació inicial del pressupost per a lexercici 2020 [KEYWORDS] per inicial pressupost lexercici 2020\n",
      "Name: model_input, dtype: object\n"
     ]
    }
   ],
   "source": [
    "pd.set_option('display.max_colwidth', None)\n",
    "pd.set_option('display.colheader_justify', 'left') \n",
    "\n",
    "print(df['model_input'].sample(10))\n",
    "pd.set_option('display.max_colwidth', 80)\n",
    "pd.set_option('display.colheader_justify', 'right') "
   ]
  },
  {
   "cell_type": "code",
   "execution_count": 12,
   "id": "a8919e80",
   "metadata": {},
   "outputs": [
    {
     "name": "stdout",
     "output_type": "stream",
     "text": [
      "Average cleaned text length (characters): 149.62145694875883\n",
      "Median cleaned text length (characters): 145.0\n",
      "Average cleaned text length (words): 20.565832772590266\n",
      "Median cleaned text length (words): 20.0\n"
     ]
    }
   ],
   "source": [
    "# Recalculate character and word lengths after cleaning to check if cleaning significantly shortens the text or changes its structure.\n",
    "df['model_input_len_chars'] = df['model_input'].str.len()\n",
    "df['model_input_len_words'] = df['model_input'].str.split().apply(len)\n",
    "\n",
    "# Print updated statistics to support decisions about input sequence length for the model.\n",
    "print(\"Average cleaned text length (characters):\", df['model_input_len_chars'].mean())\n",
    "print(\"Median cleaned text length (characters):\", df['model_input_len_chars'].median())\n",
    "print(\"Average cleaned text length (words):\", df['model_input_len_words'].mean())\n",
    "print(\"Median cleaned text length (words):\", df['model_input_len_words'].median())"
   ]
  },
  {
   "cell_type": "code",
   "execution_count": 13,
   "id": "5c8cc23c",
   "metadata": {},
   "outputs": [
    {
     "ename": "SyntaxError",
     "evalue": "invalid syntax (15193383.py, line 1)",
     "output_type": "error",
     "traceback": [
      "\u001b[0;36m  Cell \u001b[0;32mIn[13], line 1\u001b[0;36m\u001b[0m\n\u001b[0;31m    +\u001b[0m\n\u001b[0m     ^\u001b[0m\n\u001b[0;31mSyntaxError\u001b[0m\u001b[0;31m:\u001b[0m invalid syntax\n"
     ]
    }
   ],
   "source": [
    "+"
   ]
  },
  {
   "cell_type": "markdown",
   "id": "37ba5c1d",
   "metadata": {},
   "source": [
    "## 3. Train/Validation Split\n",
    "\n",
    "We perform a stratified split to preserve class proportions in both the training and validation sets, which helps mitigate class imbalance during model training and evaluation.\n"
   ]
  },
  {
   "cell_type": "code",
   "execution_count": null,
   "id": "7dfdc925",
   "metadata": {},
   "outputs": [
    {
     "name": "stdout",
     "output_type": "stream",
     "text": [
      "Training samples: 173579\n",
      "Validation samples: 43395\n"
     ]
    }
   ],
   "source": [
    "train_df, val_df = train_test_split(\n",
    "    df, \n",
    "    test_size=0.2, \n",
    "    stratify=df['class'], \n",
    "    random_state=2025\n",
    ")\n",
    "\n",
    "# Rename target column to 'labels' for Trainer compatibility\n",
    "train_df = train_df.rename(columns={\"class\": \"labels\"})\n",
    "val_df   = val_df.rename(columns={\"class\": \"labels\"})\n",
    "\n",
    "print(\"Training samples:\", len(train_df))\n",
    "print(\"Validation samples:\", len(val_df))"
   ]
  },
  {
   "cell_type": "markdown",
   "id": "6efabcd7",
   "metadata": {},
   "source": [
    "## 4. Tokenization and Preparation for Training\n",
    "\n",
    "- Select a BERT model en catalan\n",
    "- Load the tokenizer using AutoTokenizer.\n",
    "- Tokenize the texts and prepare PyTorch datasets for the Trainer.\n"
   ]
  },
  {
   "cell_type": "code",
   "execution_count": null,
   "id": "ff4e61da",
   "metadata": {},
   "outputs": [
    {
     "data": {
      "application/vnd.jupyter.widget-view+json": {
       "model_id": "0639785af77c45ef96733b48ee3d649a",
       "version_major": 2,
       "version_minor": 0
      },
      "text/plain": [
       "Map:   0%|          | 0/173579 [00:00<?, ? examples/s]"
      ]
     },
     "metadata": {},
     "output_type": "display_data"
    },
    {
     "data": {
      "application/vnd.jupyter.widget-view+json": {
       "model_id": "0f1e6d724e824fea9a7e6ab9204c5a4a",
       "version_major": 2,
       "version_minor": 0
      },
      "text/plain": [
       "Map:   0%|          | 0/43395 [00:00<?, ? examples/s]"
      ]
     },
     "metadata": {},
     "output_type": "display_data"
    }
   ],
   "source": [
    "model_checkpoint = \"PlanTL-GOB-ES/roberta-base-ca\"\n",
    "\n",
    "# Load the pretrained BERT tokenizer to convert texts into input IDs and attention masks.\n",
    "tokenizer = AutoTokenizer.from_pretrained(model_checkpoint)\n",
    "\n",
    "max_length = 128  # Cover occasional longer texts and better leverage available GPU memory\n",
    "\n",
    "def tokenize_batch(batch):\n",
    "    # Tokenize texts, truncating or padding to a fixed max_length for batch processing.\n",
    "    return tokenizer(\n",
    "        batch[\"model_input\"], \n",
    "        padding=\"max_length\", \n",
    "        truncation=True, \n",
    "        max_length=max_length\n",
    "    )\n",
    "\n",
    "# Prepare data for HuggingFace Trainer by converting DataFrame to Dataset.\n",
    "train_dataset = Dataset.from_pandas(train_df)\n",
    "val_dataset = Dataset.from_pandas(val_df)\n",
    "\n",
    "# Apply tokenization to the datasets.\n",
    "train_dataset = train_dataset.map(tokenize_batch, batched=True)\n",
    "val_dataset = val_dataset.map(tokenize_batch, batched=True)\n"
   ]
  },
  {
   "cell_type": "code",
   "execution_count": null,
   "id": "7a23806b",
   "metadata": {},
   "outputs": [],
   "source": [
    "# Prepare data for HuggingFace Trainer by converting DataFrame to Dataset.\n",
    "train_dataset = Dataset.from_pandas(train_df)\n",
    "val_dataset = Dataset.from_pandas(val_df)\n",
    "\n",
    "# Apply tokenization to the datasets.\n",
    "train_dataset = train_dataset.map(tokenize_batch, batched=True)\n",
    "val_dataset = val_dataset.map(tokenize_batch, batched=True)"
   ]
  },
  {
   "cell_type": "markdown",
   "id": "6698e84c",
   "metadata": {},
   "source": [
    "## 5. Model Building and Training\n",
    "\n",
    "- Load the RoBERTa-base Catalan model (`PlanTL-GOB-ES/roberta-base-ca`) for sequence classification (21 output classes).\n",
    "- Define training parameters with TrainingArguments.\n",
    "- Train the model using Huggingface Trainer.\n",
    "- Save the best model checkpoint based on validation accuracy.\n"
   ]
  },
  {
   "cell_type": "code",
   "execution_count": null,
   "id": "e29a2d70",
   "metadata": {},
   "outputs": [
    {
     "name": "stderr",
     "output_type": "stream",
     "text": [
      "Some weights of RobertaForSequenceClassification were not initialized from the model checkpoint at PlanTL-GOB-ES/roberta-base-ca and are newly initialized: ['classifier.dense.bias', 'classifier.dense.weight', 'classifier.out_proj.bias', 'classifier.out_proj.weight']\n",
      "You should probably TRAIN this model on a down-stream task to be able to use it for predictions and inference.\n"
     ]
    }
   ],
   "source": [
    "# Use the Catalan RoBERTa-base model for sequence classification\n",
    "model_checkpoint = \"PlanTL-GOB-ES/roberta-base-ca\"\n",
    "\n",
    "tokenizer = AutoTokenizer.from_pretrained(model_checkpoint)\n",
    "model = AutoModelForSequenceClassification.from_pretrained(model_checkpoint, num_labels=21)\n",
    "\n",
    "training_args = TrainingArguments(\n",
    "    output_dir='./roberta-ca-results-strats',\n",
    "\n",
    "    eval_strategy=\"epoch\", \n",
    "    save_strategy=\"epoch\",    \n",
    "\n",
    "    save_total_limit=1,\n",
    "\n",
    "    per_device_train_batch_size=64,\n",
    "    per_device_eval_batch_size=128,\n",
    "    num_train_epochs=3,\n",
    "\n",
    "    learning_rate=4e-5,\n",
    "    warmup_steps=500,\n",
    "\n",
    "    load_best_model_at_end=True,\n",
    "    metric_for_best_model='accuracy',\n",
    "    greater_is_better=True,\n",
    "\n",
    "    logging_dir='./logs',\n",
    "    logging_steps=100,\n",
    "    report_to=\"tensorboard\",\n",
    "\n",
    "    seed=42,\n",
    "    fp16=True,\n",
    "    max_grad_norm=1.0\n",
    ")\n",
    "\n",
    "\n"
   ]
  },
  {
   "cell_type": "code",
   "execution_count": null,
   "id": "0566d1d9",
   "metadata": {},
   "outputs": [
    {
     "ename": "NameError",
     "evalue": "name 'model' is not defined",
     "output_type": "error",
     "traceback": [
      "\u001b[0;31m---------------------------------------------------------------------------\u001b[0m",
      "\u001b[0;31mNameError\u001b[0m                                 Traceback (most recent call last)",
      "Cell \u001b[0;32mIn[14], line 18\u001b[0m\n\u001b[1;32m      8\u001b[0m     recall_macro \u001b[38;5;241m=\u001b[39m recall_score(labels, preds, average\u001b[38;5;241m=\u001b[39m\u001b[38;5;124m'\u001b[39m\u001b[38;5;124mmacro\u001b[39m\u001b[38;5;124m'\u001b[39m)        \u001b[38;5;66;03m# Average recall across classes\u001b[39;00m\n\u001b[1;32m     10\u001b[0m     \u001b[38;5;28;01mreturn\u001b[39;00m {\n\u001b[1;32m     11\u001b[0m         \u001b[38;5;124m\"\u001b[39m\u001b[38;5;124maccuracy\u001b[39m\u001b[38;5;124m\"\u001b[39m: accuracy,\n\u001b[1;32m     12\u001b[0m         \u001b[38;5;124m\"\u001b[39m\u001b[38;5;124mf1_macro\u001b[39m\u001b[38;5;124m\"\u001b[39m: f1_macro,\n\u001b[1;32m     13\u001b[0m         \u001b[38;5;124m\"\u001b[39m\u001b[38;5;124mprecision_macro\u001b[39m\u001b[38;5;124m\"\u001b[39m: precision_macro,\n\u001b[1;32m     14\u001b[0m         \u001b[38;5;124m\"\u001b[39m\u001b[38;5;124mrecall_macro\u001b[39m\u001b[38;5;124m\"\u001b[39m: recall_macro\n\u001b[1;32m     15\u001b[0m     }\n\u001b[1;32m     17\u001b[0m trainer \u001b[38;5;241m=\u001b[39m Trainer(\n\u001b[0;32m---> 18\u001b[0m     model\u001b[38;5;241m=\u001b[39m\u001b[43mmodel\u001b[49m,\n\u001b[1;32m     19\u001b[0m     args\u001b[38;5;241m=\u001b[39mtraining_args,\n\u001b[1;32m     20\u001b[0m     train_dataset\u001b[38;5;241m=\u001b[39mtrain_dataset,\n\u001b[1;32m     21\u001b[0m     eval_dataset\u001b[38;5;241m=\u001b[39mval_dataset,\n\u001b[1;32m     22\u001b[0m     compute_metrics\u001b[38;5;241m=\u001b[39mcompute_metrics\n\u001b[1;32m     23\u001b[0m )\n\u001b[1;32m     25\u001b[0m trainer\u001b[38;5;241m.\u001b[39mtrain()\n\u001b[1;32m     26\u001b[0m trainer\u001b[38;5;241m.\u001b[39msave_model(\u001b[38;5;124m\"\u001b[39m\u001b[38;5;124m./best_roberta_ca_model_strats\u001b[39m\u001b[38;5;124m\"\u001b[39m)\n",
      "\u001b[0;31mNameError\u001b[0m: name 'model' is not defined"
     ]
    }
   ],
   "source": [
    "def compute_metrics(eval_pred):\n",
    "    logits, labels = eval_pred\n",
    "    preds = np.argmax(logits, axis=-1)\n",
    "    \n",
    "    accuracy = accuracy_score(labels, preds)\n",
    "    f1_macro = f1_score(labels, preds, average='macro')       # Average F1 score across classes\n",
    "    precision_macro = precision_score(labels, preds, average='macro')  # Average precision across classes\n",
    "    recall_macro = recall_score(labels, preds, average='macro')        # Average recall across classes\n",
    "    \n",
    "    return {\n",
    "        \"accuracy\": accuracy,\n",
    "        \"f1_macro\": f1_macro,\n",
    "        \"precision_macro\": precision_macro,\n",
    "        \"recall_macro\": recall_macro\n",
    "    }\n",
    "\n",
    "trainer = Trainer(\n",
    "    model=model,\n",
    "    args=training_args,\n",
    "    train_dataset=train_dataset,\n",
    "    eval_dataset=val_dataset,\n",
    "    compute_metrics=compute_metrics\n",
    ")\n",
    "\n",
    "trainer.train()\n",
    "trainer.save_model(\"./best_roberta_ca_model_strats\")\n",
    "\n",
    "# After training, get predictions on validation set for detailed analysis\n",
    "predictions = trainer.predict(val_dataset)\n",
    "preds = np.argmax(predictions.predictions, axis=-1)\n",
    "labels = predictions.label_ids\n",
    "\n",
    "print(\"Classification Report Strat:\")\n",
    "print(classification_report(labels, preds))\n",
    "\n",
    "print(\"Confusion Matrix Strat:\")\n",
    "print(confusion_matrix(labels, preds))\n",
    "\n"
   ]
  },
  {
   "cell_type": "code",
   "execution_count": null,
   "id": "c003c5c7",
   "metadata": {},
   "outputs": [
    {
     "data": {
      "image/png": "[encoded data removed]",
      "text/plain": [
       "<Figure size 1400x1200 with 2 Axes>"
      ]
     },
     "metadata": {},
     "output_type": "display_data"
    }
   ],
   "source": [
    "# Compute raw confusion matrix.\n",
    "cm_errors_strat = confusion_matrix(labels, preds)\n",
    "\n",
    "# Set diagonal to zero to focus color scaling on the misclassifications.\n",
    "cm_no_diag = cm_errors_strat.copy()\n",
    "np.fill_diagonal(cm_no_diag, 0)\n",
    "\n",
    "# Define class names for axis ticks.\n",
    "class_names = [str(i) for i in range(cm_no_diag.shape[0])]\n",
    "\n",
    "# Plot heatmap with errors emphasized.\n",
    "plt.figure(figsize=(14, 12))\n",
    "sns.heatmap(cm_no_diag, annot=True, fmt='d', cmap='Reds',\n",
    "            xticklabels=class_names, yticklabels=class_names)\n",
    "\n",
    "plt.xlabel('Predicted')\n",
    "plt.ylabel('True')\n",
    "plt.title('Confusion Matrix (Errors Only) Strat')\n",
    "plt.tight_layout()\n",
    "plt.show()\n"
   ]
  },
  {
   "cell_type": "code",
   "execution_count": null,
   "id": "dcae3b3c",
   "metadata": {},
   "outputs": [],
   "source": [
    "texts = {}\n",
    "for cl in range(21):\n",
    "    \n",
    "    texts[cl] = ' '.join(df[df['class'] == cl]['clean_text'])\n",
    "\n",
    "\n",
    "\n",
    "for cl in texts:\n",
    "    plt.figure(figsize=(16, 8))\n",
    "    wordcloud = WordCloud(width=800, height=600, background_color='white').generate(texts[cl])\n",
    "\n",
    "    plt.imshow(wordcloud, interpolation='bilinear')\n",
    "    plt.title(f\"Class {cl}\")\n",
    "    plt.axis('off')\n",
    "    plt.tight_layout()\n",
    "    plt.show()\n"
   ]
  },
  {
   "cell_type": "markdown",
   "id": "7e67a506",
   "metadata": {},
   "source": [
    "## 6. Temporal Split: Training on Early Years and Testing on Recent Years\n",
    "\n",
    "Based on the distribution of samples across years, we observe that the majority of data is concentrated between 2013 and 2017, with a decreasing number of samples in later years (2018–2020). To better simulate real-world model performance and evaluate its generalization to new data, we split the dataset temporally:\n",
    "\n",
    "- **Training set:** samples from years 2013 to 2017 (inclusive).  \n",
    "- **Test set:** samples from years 2018 onwards.\n",
    "\n",
    "This approach allows us to train the model on historical data and evaluate accuracy on more recent, potentially shifted data distributions."
   ]
  },
  {
   "cell_type": "code",
   "execution_count": null,
   "id": "390f03b7",
   "metadata": {},
   "outputs": [
    {
     "name": "stdout",
     "output_type": "stream",
     "text": [
      "Training samples: 149173\n",
      "Validation samples: 67801\n"
     ]
    }
   ],
   "source": [
    "train_years = list(range(2013, 2018))\n",
    "train_df = df[df['year'].isin(train_years)].copy()\n",
    "val_df = df[~df['year'].isin(train_years)].copy()\n",
    "\n",
    "# Rename target column to 'labels' for Trainer compatibility\n",
    "train_df = train_df.rename(columns={\"class\": \"labels\"})\n",
    "val_df   = val_df.rename(columns={\"class\": \"labels\"})\n",
    "\n",
    "print(\"Training samples:\", len(train_df))\n",
    "print(\"Validation samples:\", len(val_df))"
   ]
  },
  {
   "cell_type": "markdown",
   "id": "ec61372f",
   "metadata": {},
   "source": [
    "## 7. Tokenization and Preparation for Training for another step\n",
    "\n",
    "- Select a BERT model en catalan\n",
    "- Load the tokenizer using AutoTokenizer.\n",
    "- Tokenize the texts and prepare PyTorch datasets for the Trainer."
   ]
  },
  {
   "cell_type": "code",
   "execution_count": null,
   "id": "23cf6500",
   "metadata": {},
   "outputs": [
    {
     "data": {
      "application/vnd.jupyter.widget-view+json": {
       "model_id": "2eba9d336bb841d2b1d2b72ec5bf7363",
       "version_major": 2,
       "version_minor": 0
      },
      "text/plain": [
       "Map:   0%|          | 0/149173 [00:00<?, ? examples/s]"
      ]
     },
     "metadata": {},
     "output_type": "display_data"
    },
    {
     "data": {
      "application/vnd.jupyter.widget-view+json": {
       "model_id": "d788ca3dc81448f2893c9bd32017c5ab",
       "version_major": 2,
       "version_minor": 0
      },
      "text/plain": [
       "Map:   0%|          | 0/67801 [00:00<?, ? examples/s]"
      ]
     },
     "metadata": {},
     "output_type": "display_data"
    }
   ],
   "source": [
    "model_checkpoint = \"PlanTL-GOB-ES/roberta-base-ca\"\n",
    "\n",
    "# Load the pretrained BERT tokenizer to convert texts into input IDs and attention masks.\n",
    "tokenizer = AutoTokenizer.from_pretrained(model_checkpoint)\n",
    "\n",
    "max_length = 128  # Cover occasional longer texts and better leverage available GPU memory\n",
    "\n",
    "def tokenize_batch(batch):\n",
    "    # Tokenize texts, truncating or padding to a fixed max_length for batch processing.\n",
    "    return tokenizer(\n",
    "        batch[\"model_input\"], \n",
    "        padding=\"max_length\", \n",
    "        truncation=True, \n",
    "        max_length=max_length\n",
    "    )\n",
    "\n",
    "train_dataset = Dataset.from_pandas(train_df)\n",
    "val_dataset = Dataset.from_pandas(val_df)\n",
    "\n",
    "train_dataset = train_dataset.map(tokenize_batch, batched=True)\n",
    "val_dataset = val_dataset.map(tokenize_batch, batched=True)\n"
   ]
  },
  {
   "cell_type": "markdown",
   "id": "60cc8807",
   "metadata": {},
   "source": [
    "## 8. Model Building and Training\n",
    "\n",
    "- Load the RoBERTa-base Catalan model (`PlanTL-GOB-ES/roberta-base-ca`) for sequence classification (21 output classes).\n",
    "- Define training parameters with TrainingArguments.\n",
    "- Train the model using Huggingface Trainer.\n",
    "- Save the best model checkpoint based on validation accuracy."
   ]
  },
  {
   "cell_type": "code",
   "execution_count": null,
   "id": "debba4be",
   "metadata": {},
   "outputs": [
    {
     "name": "stderr",
     "output_type": "stream",
     "text": [
      "Some weights of RobertaForSequenceClassification were not initialized from the model checkpoint at PlanTL-GOB-ES/roberta-base-ca and are newly initialized: ['classifier.dense.bias', 'classifier.dense.weight', 'classifier.out_proj.bias', 'classifier.out_proj.weight']\n",
      "You should probably TRAIN this model on a down-stream task to be able to use it for predictions and inference.\n"
     ]
    }
   ],
   "source": [
    "# Use the Catalan RoBERTa-base model for sequence classification\n",
    "model_checkpoint = \"PlanTL-GOB-ES/roberta-base-ca\"\n",
    "\n",
    "tokenizer = AutoTokenizer.from_pretrained(model_checkpoint)\n",
    "model = AutoModelForSequenceClassification.from_pretrained(model_checkpoint, num_labels=21)\n",
    "\n",
    "training_args = TrainingArguments(\n",
    "    output_dir='./roberta-ca-results-years_recent',\n",
    "\n",
    "    eval_strategy=\"epoch\", \n",
    "    save_strategy=\"epoch\",    \n",
    "\n",
    "    save_total_limit=1,\n",
    "\n",
    "    per_device_train_batch_size=128,\n",
    "    per_device_eval_batch_size=256,\n",
    "    num_train_epochs=3,\n",
    "\n",
    "    learning_rate=4e-5,\n",
    "    warmup_steps=500,\n",
    "\n",
    "    load_best_model_at_end=True,\n",
    "    metric_for_best_model='accuracy',\n",
    "    greater_is_better=True,\n",
    "\n",
    "    logging_dir='./logs',\n",
    "    logging_steps=100,\n",
    "    report_to=\"tensorboard\",\n",
    "\n",
    "    seed=42,\n",
    "    fp16=True,\n",
    "    max_grad_norm=1.0\n",
    ")\n",
    "\n",
    "\n"
   ]
  },
  {
   "cell_type": "code",
   "execution_count": 14,
   "id": "e7c97390",
   "metadata": {},
   "outputs": [],
   "source": [
    "def compute_metrics(eval_pred):\n",
    "    logits, labels = eval_pred\n",
    "    preds = np.argmax(logits, axis=-1)\n",
    "    \n",
    "    accuracy = accuracy_score(labels, preds)\n",
    "    f1_macro = f1_score(labels, preds, average='macro')       # Average F1 score across classes\n",
    "    precision_macro = precision_score(labels, preds, average='macro')  # Average precision across classes\n",
    "    recall_macro = recall_score(labels, preds, average='macro')        # Average recall across classes\n",
    "    \n",
    "    return {\n",
    "        \"accuracy\": accuracy,\n",
    "        \"f1_macro\": f1_macro,\n",
    "        \"precision_macro\": precision_macro,\n",
    "        \"recall_macro\": recall_macro\n",
    "    }\n",
    "\n",
    "\n"
   ]
  },
  {
   "cell_type": "code",
   "execution_count": null,
   "id": "d359bf47",
   "metadata": {},
   "outputs": [],
   "source": [
    "trainer = Trainer(\n",
    "    model=model,\n",
    "    args=training_args,\n",
    "    train_dataset=train_dataset,\n",
    "    eval_dataset=val_dataset,\n",
    "    compute_metrics=compute_metrics\n",
    ")\n",
    "\n",
    "trainer.train()\n",
    "trainer.save_model(\"./best_roberta_ca_model_years\")\n",
    "\n",
    "\n",
    "predictions = trainer.predict(val_dataset)\n",
    "preds = np.argmax(predictions.predictions, axis=-1)\n",
    "labels = predictions.label_ids\n",
    "\n",
    "print(\"Classification Report:\")\n",
    "print(classification_report(labels, preds))\n",
    "\n",
    "print(\"Confusion Matrix:\")\n",
    "print(confusion_matrix(labels, preds))\n"
   ]
  },
  {
   "cell_type": "code",
   "execution_count": null,
   "id": "b60e9fb1",
   "metadata": {},
   "outputs": [
    {
     "data": {
      "image/png": "[encoded data removed]",
      "text/plain": [
       "<Figure size 1400x1200 with 2 Axes>"
      ]
     },
     "metadata": {},
     "output_type": "display_data"
    }
   ],
   "source": [
    "cm_errors = confusion_matrix(labels, preds)\n",
    "\n",
    "cm_no_diag = cm_errors.copy()\n",
    "np.fill_diagonal(cm_no_diag, 0)\n",
    "\n",
    "class_names = [str(i) for i in range(cm_no_diag.shape[0])]\n",
    "\n",
    "plt.figure(figsize=(14, 12))\n",
    "sns.heatmap(cm_no_diag, annot=True, fmt='d', cmap='Reds',\n",
    "            xticklabels=class_names, yticklabels=class_names)\n",
    "\n",
    "plt.xlabel('Predicted')\n",
    "plt.ylabel('True')\n",
    "plt.title('Confusion Matrix (Errors Only) Years')\n",
    "plt.tight_layout()\n",
    "plt.show()\n"
   ]
  },
  {
   "cell_type": "code",
   "execution_count": null,
   "id": "39834ef7",
   "metadata": {},
   "outputs": [
    {
     "name": "stderr",
     "output_type": "stream",
     "text": [
      "Some weights of RobertaForSequenceClassification were not initialized from the model checkpoint at PlanTL-GOB-ES/roberta-base-ca and are newly initialized: ['classifier.dense.bias', 'classifier.dense.weight', 'classifier.out_proj.bias', 'classifier.out_proj.weight']\n",
      "You should probably TRAIN this model on a down-stream task to be able to use it for predictions and inference.\n"
     ]
    },
    {
     "data": {
      "application/vnd.jupyter.widget-view+json": {
       "model_id": "9dbcfb13117e4a798850f2062abc7a99",
       "version_major": 2,
       "version_minor": 0
      },
      "text/plain": [
       "Map:   0%|          | 0/72912 [00:00<?, ? examples/s]"
      ]
     },
     "metadata": {},
     "output_type": "display_data"
    },
    {
     "data": {
      "application/vnd.jupyter.widget-view+json": {
       "model_id": "34bd3ab4cebe4554acd14c0093dce2f2",
       "version_major": 2,
       "version_minor": 0
      },
      "text/plain": [
       "Map:   0%|          | 0/20702 [00:00<?, ? examples/s]"
      ]
     },
     "metadata": {},
     "output_type": "display_data"
    },
    {
     "data": {
      "text/html": [
       "\n",
       "    <div>\n",
       "      \n",
       "      <progress value='3420' max='3420' style='width:300px; height:20px; vertical-align: middle;'></progress>\n",
       "      [3420/3420 23:18, Epoch 3/3]\n",
       "    </div>\n",
       "    <table border=\"1\" class=\"dataframe\">\n",
       "  <thead>\n",
       " <tr style=\"text-align: left;\">\n",
       "      <th>Epoch</th>\n",
       "      <th>Training Loss</th>\n",
       "      <th>Validation Loss</th>\n",
       "      <th>Accuracy</th>\n",
       "      <th>F1 Macro</th>\n",
       "      <th>Precision Macro</th>\n",
       "      <th>Recall Macro</th>\n",
       "    </tr>\n",
       "  </thead>\n",
       "  <tbody>\n",
       "    <tr>\n",
       "      <td>1</td>\n",
       "      <td>0.164600</td>\n",
       "      <td>0.224567</td>\n",
       "      <td>0.947879</td>\n",
       "      <td>0.903623</td>\n",
       "      <td>0.913356</td>\n",
       "      <td>0.897471</td>\n",
       "    </tr>\n",
       "    <tr>\n",
       "      <td>2</td>\n",
       "      <td>0.110100</td>\n",
       "      <td>0.219474</td>\n",
       "      <td>0.951840</td>\n",
       "      <td>0.912191</td>\n",
       "      <td>0.918600</td>\n",
       "      <td>0.908560</td>\n",
       "    </tr>\n",
       "    <tr>\n",
       "      <td>3</td>\n",
       "      <td>0.064100</td>\n",
       "      <td>0.219077</td>\n",
       "      <td>0.952855</td>\n",
       "      <td>0.915701</td>\n",
       "      <td>0.919876</td>\n",
       "      <td>0.914256</td>\n",
       "    </tr>\n",
       "  </tbody>\n",
       "</table><p>"
      ],
      "text/plain": [
       "<IPython.core.display.HTML object>"
      ]
     },
     "metadata": {},
     "output_type": "display_data"
    },
    {
     "data": {
      "text/html": [],
      "text/plain": [
       "<IPython.core.display.HTML object>"
      ]
     },
     "metadata": {},
     "output_type": "display_data"
    },
    {
     "name": "stdout",
     "output_type": "stream",
     "text": [
      "Classification Report on 2020:\n",
      "              precision    recall  f1-score   support\n",
      "\n",
      "           0       0.93      0.96      0.95      2115\n",
      "           1       0.99      0.99      0.99       204\n",
      "           2       0.97      0.97      0.97      1599\n",
      "           3       0.91      0.88      0.90      1364\n",
      "           4       0.86      0.87      0.86       335\n",
      "           5       0.98      0.94      0.96       177\n",
      "           6       0.98      0.98      0.98      1979\n",
      "           7       0.92      0.99      0.95       143\n",
      "           8       0.98      0.93      0.95      1124\n",
      "           9       0.90      0.93      0.91      1215\n",
      "          10       0.99      0.93      0.96       103\n",
      "          11       1.00      1.00      1.00        18\n",
      "          12       0.99      0.99      0.99      4216\n",
      "          13       0.98      0.99      0.99       892\n",
      "          14       0.79      0.67      0.73        55\n",
      "          15       0.98      0.99      0.98      3231\n",
      "          16       0.94      0.91      0.93       446\n",
      "          17       0.87      0.83      0.85       836\n",
      "          18       0.91      0.80      0.85       174\n",
      "          19       0.77      0.75      0.76       393\n",
      "          20       0.68      0.90      0.78        83\n",
      "\n",
      "    accuracy                           0.95     20702\n",
      "   macro avg       0.92      0.91      0.92     20702\n",
      "weighted avg       0.95      0.95      0.95     20702\n",
      "\n",
      "Confusion Matrix on 2020:\n",
      "[[2034    0    1    7    9    0    0    0    0    2    0    0    2    0\n",
      "     4    4    5   43    0    4    0]\n",
      " [   0  202    0    1    0    0    0    0    0    0    0    0    1    0\n",
      "     0    0    0    0    0    0    0]\n",
      " [   0    0 1548   37    1    0    0    0    0    1    0    0    2    3\n",
      "     2    2    0    0    0    3    0]\n",
      " [  16    0   33 1201    4    1    3    0    0    9    0    0   24    3\n",
      "     1   24    8    0    0   34    3]\n",
      " [  16    0    0    3  290    0    0    0    0    2    0    0    0    0\n",
      "     0    5    1    6    0   11    1]\n",
      " [   0    0    0    0    0  167    9    0    0    0    0    0    1    0\n",
      "     0    0    0    0    0    0    0]\n",
      " [   0    0    0    0    0    3 1946   12   10    0    0    0    5    0\n",
      "     0    2    0    0    0    1    0]\n",
      " [   0    0    0    0    0    0    1  141    1    0    0    0    0    0\n",
      "     0    0    0    0    0    0    0]\n",
      " [   3    0    0    0    0    0   21    1 1042   53    0    0    4    0\n",
      "     0    0    0    0    0    0    0]\n",
      " [   2    0    0   16    5    0    0    0    6 1125    0    0    9    0\n",
      "     0   10    0    3    0   16   23]\n",
      " [   0    0    0    0    0    0    0    0    0    4   96    0    0    2\n",
      "     0    0    0    0    0    0    1]\n",
      " [   0    0    0    0    0    0    0    0    0    0    0   18    0    0\n",
      "     0    0    0    0    0    0    0]\n",
      " [   0    1    0    3    0    0    0    0    1    9    0    0 4192    0\n",
      "     0    7    0    0    0    3    0]\n",
      " [   0    0    6    0    0    0    0    0    0    2    1    0    0  881\n",
      "     2    0    0    0    0    0    0]\n",
      " [   7    0    1    0    0    0    0    0    0    0    0    0    1    4\n",
      "    37    0    0    2    0    3    0]\n",
      " [   0    0    0   11    3    0    3    0    0    6    0    0    6    0\n",
      "     0 3199    0    0    0    3    0]\n",
      " [   9    0    0   11    0    0    0    0    0    2    0    0    1    0\n",
      "     0    0  408   14    0    1    0]\n",
      " [  93    0    1   14    9    0    0    0    0    3    0    0    0    0\n",
      "     1    0    7  692   12    2    2]\n",
      " [   0    0    0    0   11    0    0    0    0    0    0    0    0    0\n",
      "     0    0    0   23  139    1    0]\n",
      " [   7    1    2   13    6    0    2    0    0   32    0    0    1    3\n",
      "     0   12    5    9    2  293    5]\n",
      " [   0    0    0    0    1    0    1    0    0    2    0    0    0    0\n",
      "     0    0    0    0    0    4   75]]\n"
     ]
    }
   ],
   "source": [
    "train_years = [2017, 2018, 2019]\n",
    "test_year   = 2020\n",
    "\n",
    "train_df = df[df['year'].isin(train_years)].copy()\n",
    "test_df  = df[df['year'] == test_year].copy()\n",
    "train_df = train_df.rename(columns={'class':'labels'})\n",
    "test_df  = test_df.rename(columns={'class':'labels'})\n",
    "\n",
    "model_checkpoint = \"PlanTL-GOB-ES/roberta-base-ca\"\n",
    "tokenizer = AutoTokenizer.from_pretrained(model_checkpoint)\n",
    "model = AutoModelForSequenceClassification.from_pretrained(model_checkpoint, num_labels=21)\n",
    "\n",
    "training_args = TrainingArguments(\n",
    "    output_dir='./roberta-ca-results-years_recent',\n",
    "    eval_strategy=\"epoch\", \n",
    "    save_strategy=\"epoch\",    \n",
    "    save_total_limit=1,\n",
    "    per_device_train_batch_size=64,    # 128 слишком много!\n",
    "    per_device_eval_batch_size=128,     # 256 слишком много!\n",
    "    num_train_epochs=3,\n",
    "    learning_rate=4e-5,\n",
    "    warmup_steps=500,\n",
    "    load_best_model_at_end=True,\n",
    "    metric_for_best_model='accuracy',\n",
    "    greater_is_better=True,\n",
    "    logging_dir='./logs',\n",
    "    logging_steps=100,\n",
    "    report_to=\"tensorboard\",\n",
    "    seed=42,\n",
    "    fp16=True,\n",
    "    max_grad_norm=1.0\n",
    ")\n",
    "\n",
    "\n",
    "max_length = 128\n",
    "def tokenize_batch(batch):\n",
    "    return tokenizer(\n",
    "        batch['model_input'],\n",
    "        padding='max_length',\n",
    "        truncation=True,\n",
    "        max_length=max_length\n",
    "    )\n",
    "\n",
    "train_ds = Dataset.from_pandas(train_df).map(tokenize_batch, batched=True)\n",
    "test_ds  = Dataset.from_pandas(test_df ).map(tokenize_batch, batched=True)\n",
    "\n",
    "\n",
    "trainer = Trainer(\n",
    "    model=model,\n",
    "    args=training_args,\n",
    "    train_dataset=train_ds,\n",
    "    eval_dataset=test_ds,\n",
    "    compute_metrics=compute_metrics\n",
    ")\n",
    "\n",
    "trainer.train()\n",
    "trainer.save_model(\"./best_roberta_ca_model_years_recent\")\n",
    "\n",
    "predictions = trainer.predict(test_ds)\n",
    "preds = np.argmax(predictions.predictions, axis=-1)\n",
    "labels = predictions.label_ids\n",
    "\n",
    "print(\"Classification Report on 2020:\")\n",
    "print(classification_report(labels, preds))\n",
    "\n",
    "print(\"Confusion Matrix on 2020:\")\n",
    "print(confusion_matrix(labels, preds))"
   ]
  },
  {
   "cell_type": "code",
   "execution_count": 16,
   "id": "871b47d0",
   "metadata": {},
   "outputs": [
    {
     "data": {
      "image/png": "[encoded data removed]",
      "text/plain": [
       "<Figure size 1400x1200 with 2 Axes>"
      ]
     },
     "metadata": {},
     "output_type": "display_data"
    }
   ],
   "source": [
    "# Compute raw confusion matrix.\n",
    "cm_rec = confusion_matrix(labels, preds)\n",
    "\n",
    "# Set diagonal to zero to focus color scaling on the misclassifications.\n",
    "cm_no_diag = cm_rec.copy()\n",
    "np.fill_diagonal(cm_no_diag, 0)\n",
    "\n",
    "# Define class names for axis ticks.\n",
    "class_names = [str(i) for i in range(cm_no_diag.shape[0])]\n",
    "\n",
    "# Plot heatmap with errors emphasized.\n",
    "plt.figure(figsize=(14, 12))\n",
    "sns.heatmap(cm_no_diag, annot=True, fmt='d', cmap='Reds',\n",
    "            xticklabels=class_names, yticklabels=class_names)\n",
    "\n",
    "plt.xlabel('Predicted')\n",
    "plt.ylabel('True')\n",
    "plt.title('Confusion Matrix (Errors Only) Years')\n",
    "plt.tight_layout()\n",
    "plt.show()\n"
   ]
  },
  {
   "cell_type": "code",
   "execution_count": null,
   "id": "5f753737",
   "metadata": {},
   "outputs": [
    {
     "name": "stdout",
     "output_type": "stream",
     "text": [
      "\n",
      "Train: [2013, 2014]  Test: 2015\n"
     ]
    },
    {
     "name": "stderr",
     "output_type": "stream",
     "text": [
      "Some weights of RobertaForSequenceClassification were not initialized from the model checkpoint at PlanTL-GOB-ES/roberta-base-ca and are newly initialized: ['classifier.dense.bias', 'classifier.dense.weight', 'classifier.out_proj.bias', 'classifier.out_proj.weight']\n",
      "You should probably TRAIN this model on a down-stream task to be able to use it for predictions and inference.\n"
     ]
    },
    {
     "data": {
      "application/vnd.jupyter.widget-view+json": {
       "model_id": "d229cdbc2d8c41c1bd1bd8ab5feb31e4",
       "version_major": 2,
       "version_minor": 0
      },
      "text/plain": [
       "Map:   0%|          | 0/70359 [00:00<?, ? examples/s]"
      ]
     },
     "metadata": {},
     "output_type": "display_data"
    },
    {
     "data": {
      "application/vnd.jupyter.widget-view+json": {
       "model_id": "3ce2407ea719484e991c1c780061e854",
       "version_major": 2,
       "version_minor": 0
      },
      "text/plain": [
       "Map:   0%|          | 0/29412 [00:00<?, ? examples/s]"
      ]
     },
     "metadata": {},
     "output_type": "display_data"
    },
    {
     "data": {
      "text/html": [
       "\n",
       "    <div>\n",
       "      \n",
       "      <progress value='6597' max='6597' style='width:300px; height:20px; vertical-align: middle;'></progress>\n",
       "      [6597/6597 26:11, Epoch 3/3]\n",
       "    </div>\n",
       "    <table border=\"1\" class=\"dataframe\">\n",
       "  <thead>\n",
       " <tr style=\"text-align: left;\">\n",
       "      <th>Epoch</th>\n",
       "      <th>Training Loss</th>\n",
       "      <th>Validation Loss</th>\n",
       "      <th>Accuracy</th>\n",
       "    </tr>\n",
       "  </thead>\n",
       "  <tbody>\n",
       "    <tr>\n",
       "      <td>1</td>\n",
       "      <td>0.159800</td>\n",
       "      <td>0.227156</td>\n",
       "      <td>0.946008</td>\n",
       "    </tr>\n",
       "    <tr>\n",
       "      <td>2</td>\n",
       "      <td>0.098700</td>\n",
       "      <td>0.200510</td>\n",
       "      <td>0.949578</td>\n",
       "    </tr>\n",
       "    <tr>\n",
       "      <td>3</td>\n",
       "      <td>0.067200</td>\n",
       "      <td>0.198519</td>\n",
       "      <td>0.952842</td>\n",
       "    </tr>\n",
       "  </tbody>\n",
       "</table><p>"
      ],
      "text/plain": [
       "<IPython.core.display.HTML object>"
      ]
     },
     "metadata": {},
     "output_type": "display_data"
    },
    {
     "data": {
      "text/html": [
       "\n",
       "    <div>\n",
       "      \n",
       "      <progress value='460' max='460' style='width:300px; height:20px; vertical-align: middle;'></progress>\n",
       "      [460/460 00:45]\n",
       "    </div>\n",
       "    "
      ],
      "text/plain": [
       "<IPython.core.display.HTML object>"
      ]
     },
     "metadata": {},
     "output_type": "display_data"
    },
    {
     "name": "stdout",
     "output_type": "stream",
     "text": [
      "Accuracy: 0.9528\n",
      "\n",
      "Train: [2014, 2015]  Test: 2016\n"
     ]
    },
    {
     "name": "stderr",
     "output_type": "stream",
     "text": [
      "Some weights of RobertaForSequenceClassification were not initialized from the model checkpoint at PlanTL-GOB-ES/roberta-base-ca and are newly initialized: ['classifier.dense.bias', 'classifier.dense.weight', 'classifier.out_proj.bias', 'classifier.out_proj.weight']\n",
      "You should probably TRAIN this model on a down-stream task to be able to use it for predictions and inference.\n"
     ]
    },
    {
     "data": {
      "application/vnd.jupyter.widget-view+json": {
       "model_id": "c54dd2369d474259849ad0245cada29c",
       "version_major": 2,
       "version_minor": 0
      },
      "text/plain": [
       "Map:   0%|          | 0/66001 [00:00<?, ? examples/s]"
      ]
     },
     "metadata": {},
     "output_type": "display_data"
    },
    {
     "data": {
      "application/vnd.jupyter.widget-view+json": {
       "model_id": "9e58e09a9c6c447285cba281311f61ba",
       "version_major": 2,
       "version_minor": 0
      },
      "text/plain": [
       "Map:   0%|          | 0/23589 [00:00<?, ? examples/s]"
      ]
     },
     "metadata": {},
     "output_type": "display_data"
    },
    {
     "data": {
      "text/html": [
       "\n",
       "    <div>\n",
       "      \n",
       "      <progress value='6189' max='6189' style='width:300px; height:20px; vertical-align: middle;'></progress>\n",
       "      [6189/6189 24:51, Epoch 3/3]\n",
       "    </div>\n",
       "    <table border=\"1\" class=\"dataframe\">\n",
       "  <thead>\n",
       " <tr style=\"text-align: left;\">\n",
       "      <th>Epoch</th>\n",
       "      <th>Training Loss</th>\n",
       "      <th>Validation Loss</th>\n",
       "      <th>Accuracy</th>\n",
       "    </tr>\n",
       "  </thead>\n",
       "  <tbody>\n",
       "    <tr>\n",
       "      <td>1</td>\n",
       "      <td>0.153100</td>\n",
       "      <td>0.189004</td>\n",
       "      <td>0.957141</td>\n",
       "    </tr>\n",
       "    <tr>\n",
       "      <td>2</td>\n",
       "      <td>0.112300</td>\n",
       "      <td>0.186478</td>\n",
       "      <td>0.958074</td>\n",
       "    </tr>\n",
       "    <tr>\n",
       "      <td>3</td>\n",
       "      <td>0.076100</td>\n",
       "      <td>0.178751</td>\n",
       "      <td>0.961762</td>\n",
       "    </tr>\n",
       "  </tbody>\n",
       "</table><p>"
      ],
      "text/plain": [
       "<IPython.core.display.HTML object>"
      ]
     },
     "metadata": {},
     "output_type": "display_data"
    },
    {
     "data": {
      "text/html": [
       "\n",
       "    <div>\n",
       "      \n",
       "      <progress value='369' max='369' style='width:300px; height:20px; vertical-align: middle;'></progress>\n",
       "      [369/369 00:39]\n",
       "    </div>\n",
       "    "
      ],
      "text/plain": [
       "<IPython.core.display.HTML object>"
      ]
     },
     "metadata": {},
     "output_type": "display_data"
    },
    {
     "name": "stdout",
     "output_type": "stream",
     "text": [
      "Accuracy: 0.9618\n",
      "\n",
      "Train: [2015, 2016]  Test: 2017\n"
     ]
    },
    {
     "name": "stderr",
     "output_type": "stream",
     "text": [
      "Some weights of RobertaForSequenceClassification were not initialized from the model checkpoint at PlanTL-GOB-ES/roberta-base-ca and are newly initialized: ['classifier.dense.bias', 'classifier.dense.weight', 'classifier.out_proj.bias', 'classifier.out_proj.weight']\n",
      "You should probably TRAIN this model on a down-stream task to be able to use it for predictions and inference.\n"
     ]
    },
    {
     "data": {
      "application/vnd.jupyter.widget-view+json": {
       "model_id": "014aaddfe298453d872459aa7091274d",
       "version_major": 2,
       "version_minor": 0
      },
      "text/plain": [
       "Map:   0%|          | 0/53001 [00:00<?, ? examples/s]"
      ]
     },
     "metadata": {},
     "output_type": "display_data"
    },
    {
     "data": {
      "application/vnd.jupyter.widget-view+json": {
       "model_id": "da7e7231c28647d4bfd84053014a68c4",
       "version_major": 2,
       "version_minor": 0
      },
      "text/plain": [
       "Map:   0%|          | 0/25813 [00:00<?, ? examples/s]"
      ]
     },
     "metadata": {},
     "output_type": "display_data"
    },
    {
     "data": {
      "text/html": [
       "\n",
       "    <div>\n",
       "      \n",
       "      <progress value='4971' max='4971' style='width:300px; height:20px; vertical-align: middle;'></progress>\n",
       "      [4971/4971 19:46, Epoch 3/3]\n",
       "    </div>\n",
       "    <table border=\"1\" class=\"dataframe\">\n",
       "  <thead>\n",
       " <tr style=\"text-align: left;\">\n",
       "      <th>Epoch</th>\n",
       "      <th>Training Loss</th>\n",
       "      <th>Validation Loss</th>\n",
       "      <th>Accuracy</th>\n",
       "    </tr>\n",
       "  </thead>\n",
       "  <tbody>\n",
       "    <tr>\n",
       "      <td>1</td>\n",
       "      <td>0.154100</td>\n",
       "      <td>0.177089</td>\n",
       "      <td>0.956766</td>\n",
       "    </tr>\n",
       "    <tr>\n",
       "      <td>2</td>\n",
       "      <td>0.101600</td>\n",
       "      <td>0.164721</td>\n",
       "      <td>0.959207</td>\n",
       "    </tr>\n",
       "    <tr>\n",
       "      <td>3</td>\n",
       "      <td>0.060800</td>\n",
       "      <td>0.164379</td>\n",
       "      <td>0.962538</td>\n",
       "    </tr>\n",
       "  </tbody>\n",
       "</table><p>"
      ],
      "text/plain": [
       "<IPython.core.display.HTML object>"
      ]
     },
     "metadata": {},
     "output_type": "display_data"
    },
    {
     "data": {
      "text/html": [
       "\n",
       "    <div>\n",
       "      \n",
       "      <progress value='404' max='404' style='width:300px; height:20px; vertical-align: middle;'></progress>\n",
       "      [404/404 00:39]\n",
       "    </div>\n",
       "    "
      ],
      "text/plain": [
       "<IPython.core.display.HTML object>"
      ]
     },
     "metadata": {},
     "output_type": "display_data"
    },
    {
     "name": "stdout",
     "output_type": "stream",
     "text": [
      "Accuracy: 0.9625\n",
      "\n",
      "Train: [2016, 2017]  Test: 2018\n"
     ]
    },
    {
     "name": "stderr",
     "output_type": "stream",
     "text": [
      "Some weights of RobertaForSequenceClassification were not initialized from the model checkpoint at PlanTL-GOB-ES/roberta-base-ca and are newly initialized: ['classifier.dense.bias', 'classifier.dense.weight', 'classifier.out_proj.bias', 'classifier.out_proj.weight']\n",
      "You should probably TRAIN this model on a down-stream task to be able to use it for predictions and inference.\n"
     ]
    },
    {
     "data": {
      "application/vnd.jupyter.widget-view+json": {
       "model_id": "7961b1b7c52748d29552f70e7dee2dd8",
       "version_major": 2,
       "version_minor": 0
      },
      "text/plain": [
       "Map:   0%|          | 0/49402 [00:00<?, ? examples/s]"
      ]
     },
     "metadata": {},
     "output_type": "display_data"
    },
    {
     "data": {
      "application/vnd.jupyter.widget-view+json": {
       "model_id": "80bc6336b47544edac5ff15a92fed7ea",
       "version_major": 2,
       "version_minor": 0
      },
      "text/plain": [
       "Map:   0%|          | 0/24734 [00:00<?, ? examples/s]"
      ]
     },
     "metadata": {},
     "output_type": "display_data"
    },
    {
     "data": {
      "text/html": [
       "\n",
       "    <div>\n",
       "      \n",
       "      <progress value='4632' max='4632' style='width:300px; height:20px; vertical-align: middle;'></progress>\n",
       "      [4632/4632 17:15, Epoch 3/3]\n",
       "    </div>\n",
       "    <table border=\"1\" class=\"dataframe\">\n",
       "  <thead>\n",
       " <tr style=\"text-align: left;\">\n",
       "      <th>Epoch</th>\n",
       "      <th>Training Loss</th>\n",
       "      <th>Validation Loss</th>\n",
       "      <th>Accuracy</th>\n",
       "    </tr>\n",
       "  </thead>\n",
       "  <tbody>\n",
       "    <tr>\n",
       "      <td>1</td>\n",
       "      <td>0.150600</td>\n",
       "      <td>0.170950</td>\n",
       "      <td>0.959853</td>\n",
       "    </tr>\n",
       "    <tr>\n",
       "      <td>2</td>\n",
       "      <td>0.094600</td>\n",
       "      <td>0.170417</td>\n",
       "      <td>0.961793</td>\n",
       "    </tr>\n",
       "    <tr>\n",
       "      <td>3</td>\n",
       "      <td>0.063400</td>\n",
       "      <td>0.169850</td>\n",
       "      <td>0.963532</td>\n",
       "    </tr>\n",
       "  </tbody>\n",
       "</table><p>"
      ],
      "text/plain": [
       "<IPython.core.display.HTML object>"
      ]
     },
     "metadata": {},
     "output_type": "display_data"
    },
    {
     "data": {
      "text/html": [
       "\n",
       "    <div>\n",
       "      \n",
       "      <progress value='387' max='387' style='width:300px; height:20px; vertical-align: middle;'></progress>\n",
       "      [387/387 00:37]\n",
       "    </div>\n",
       "    "
      ],
      "text/plain": [
       "<IPython.core.display.HTML object>"
      ]
     },
     "metadata": {},
     "output_type": "display_data"
    },
    {
     "name": "stdout",
     "output_type": "stream",
     "text": [
      "Accuracy: 0.9635\n",
      "\n",
      "Train: [2017, 2018]  Test: 2019\n"
     ]
    },
    {
     "name": "stderr",
     "output_type": "stream",
     "text": [
      "Some weights of RobertaForSequenceClassification were not initialized from the model checkpoint at PlanTL-GOB-ES/roberta-base-ca and are newly initialized: ['classifier.dense.bias', 'classifier.dense.weight', 'classifier.out_proj.bias', 'classifier.out_proj.weight']\n",
      "You should probably TRAIN this model on a down-stream task to be able to use it for predictions and inference.\n"
     ]
    },
    {
     "data": {
      "application/vnd.jupyter.widget-view+json": {
       "model_id": "88d742b8ba394ce89882547194fe0269",
       "version_major": 2,
       "version_minor": 0
      },
      "text/plain": [
       "Map:   0%|          | 0/50547 [00:00<?, ? examples/s]"
      ]
     },
     "metadata": {},
     "output_type": "display_data"
    },
    {
     "data": {
      "application/vnd.jupyter.widget-view+json": {
       "model_id": "95e3766931a3444cbf84a59b6872c0df",
       "version_major": 2,
       "version_minor": 0
      },
      "text/plain": [
       "Map:   0%|          | 0/22365 [00:00<?, ? examples/s]"
      ]
     },
     "metadata": {},
     "output_type": "display_data"
    },
    {
     "data": {
      "text/html": [
       "\n",
       "    <div>\n",
       "      \n",
       "      <progress value='4740' max='4740' style='width:300px; height:20px; vertical-align: middle;'></progress>\n",
       "      [4740/4740 17:27, Epoch 3/3]\n",
       "    </div>\n",
       "    <table border=\"1\" class=\"dataframe\">\n",
       "  <thead>\n",
       " <tr style=\"text-align: left;\">\n",
       "      <th>Epoch</th>\n",
       "      <th>Training Loss</th>\n",
       "      <th>Validation Loss</th>\n",
       "      <th>Accuracy</th>\n",
       "    </tr>\n",
       "  </thead>\n",
       "  <tbody>\n",
       "    <tr>\n",
       "      <td>1</td>\n",
       "      <td>0.155100</td>\n",
       "      <td>0.168388</td>\n",
       "      <td>0.961860</td>\n",
       "    </tr>\n",
       "    <tr>\n",
       "      <td>2</td>\n",
       "      <td>0.096100</td>\n",
       "      <td>0.144749</td>\n",
       "      <td>0.968254</td>\n",
       "    </tr>\n",
       "    <tr>\n",
       "      <td>3</td>\n",
       "      <td>0.065200</td>\n",
       "      <td>0.137438</td>\n",
       "      <td>0.969864</td>\n",
       "    </tr>\n",
       "  </tbody>\n",
       "</table><p>"
      ],
      "text/plain": [
       "<IPython.core.display.HTML object>"
      ]
     },
     "metadata": {},
     "output_type": "display_data"
    },
    {
     "data": {
      "text/html": [
       "\n",
       "    <div>\n",
       "      \n",
       "      <progress value='350' max='350' style='width:300px; height:20px; vertical-align: middle;'></progress>\n",
       "      [350/350 00:33]\n",
       "    </div>\n",
       "    "
      ],
      "text/plain": [
       "<IPython.core.display.HTML object>"
      ]
     },
     "metadata": {},
     "output_type": "display_data"
    },
    {
     "name": "stdout",
     "output_type": "stream",
     "text": [
      "Accuracy: 0.9699\n",
      "\n",
      "Train: [2018, 2019]  Test: 2020\n"
     ]
    },
    {
     "name": "stderr",
     "output_type": "stream",
     "text": [
      "Some weights of RobertaForSequenceClassification were not initialized from the model checkpoint at PlanTL-GOB-ES/roberta-base-ca and are newly initialized: ['classifier.dense.bias', 'classifier.dense.weight', 'classifier.out_proj.bias', 'classifier.out_proj.weight']\n",
      "You should probably TRAIN this model on a down-stream task to be able to use it for predictions and inference.\n"
     ]
    },
    {
     "data": {
      "application/vnd.jupyter.widget-view+json": {
       "model_id": "64f14ec0f3394edcb8d4b13a5c8269b3",
       "version_major": 2,
       "version_minor": 0
      },
      "text/plain": [
       "Map:   0%|          | 0/47099 [00:00<?, ? examples/s]"
      ]
     },
     "metadata": {},
     "output_type": "display_data"
    },
    {
     "data": {
      "application/vnd.jupyter.widget-view+json": {
       "model_id": "674bc5ea82ed4a26a6d51a108b928583",
       "version_major": 2,
       "version_minor": 0
      },
      "text/plain": [
       "Map:   0%|          | 0/20702 [00:00<?, ? examples/s]"
      ]
     },
     "metadata": {},
     "output_type": "display_data"
    },
    {
     "data": {
      "text/html": [
       "\n",
       "    <div>\n",
       "      \n",
       "      <progress value='4416' max='4416' style='width:300px; height:20px; vertical-align: middle;'></progress>\n",
       "      [4416/4416 16:17, Epoch 3/3]\n",
       "    </div>\n",
       "    <table border=\"1\" class=\"dataframe\">\n",
       "  <thead>\n",
       " <tr style=\"text-align: left;\">\n",
       "      <th>Epoch</th>\n",
       "      <th>Training Loss</th>\n",
       "      <th>Validation Loss</th>\n",
       "      <th>Accuracy</th>\n",
       "    </tr>\n",
       "  </thead>\n",
       "  <tbody>\n",
       "    <tr>\n",
       "      <td>1</td>\n",
       "      <td>0.144300</td>\n",
       "      <td>0.249358</td>\n",
       "      <td>0.947155</td>\n",
       "    </tr>\n",
       "    <tr>\n",
       "      <td>2</td>\n",
       "      <td>0.123200</td>\n",
       "      <td>0.244558</td>\n",
       "      <td>0.950729</td>\n",
       "    </tr>\n",
       "    <tr>\n",
       "      <td>3</td>\n",
       "      <td>0.066200</td>\n",
       "      <td>0.248300</td>\n",
       "      <td>0.952034</td>\n",
       "    </tr>\n",
       "  </tbody>\n",
       "</table><p>"
      ],
      "text/plain": [
       "<IPython.core.display.HTML object>"
      ]
     },
     "metadata": {},
     "output_type": "display_data"
    },
    {
     "data": {
      "text/html": [
       "\n",
       "    <div>\n",
       "      \n",
       "      <progress value='324' max='324' style='width:300px; height:20px; vertical-align: middle;'></progress>\n",
       "      [324/324 00:31]\n",
       "    </div>\n",
       "    "
      ],
      "text/plain": [
       "<IPython.core.display.HTML object>"
      ]
     },
     "metadata": {},
     "output_type": "display_data"
    },
    {
     "name": "stdout",
     "output_type": "stream",
     "text": [
      "Accuracy: 0.9520\n",
      "\n",
      "Train: [2013, 2014, 2015]  Test: 2016\n"
     ]
    },
    {
     "name": "stderr",
     "output_type": "stream",
     "text": [
      "Some weights of RobertaForSequenceClassification were not initialized from the model checkpoint at PlanTL-GOB-ES/roberta-base-ca and are newly initialized: ['classifier.dense.bias', 'classifier.dense.weight', 'classifier.out_proj.bias', 'classifier.out_proj.weight']\n",
      "You should probably TRAIN this model on a down-stream task to be able to use it for predictions and inference.\n"
     ]
    },
    {
     "data": {
      "application/vnd.jupyter.widget-view+json": {
       "model_id": "c8265b10a77a480e920c3ca305ac7145",
       "version_major": 2,
       "version_minor": 0
      },
      "text/plain": [
       "Map:   0%|          | 0/99771 [00:00<?, ? examples/s]"
      ]
     },
     "metadata": {},
     "output_type": "display_data"
    },
    {
     "data": {
      "application/vnd.jupyter.widget-view+json": {
       "model_id": "ff609d79a1f241ca8148475474aa05b9",
       "version_major": 2,
       "version_minor": 0
      },
      "text/plain": [
       "Map:   0%|          | 0/23589 [00:00<?, ? examples/s]"
      ]
     },
     "metadata": {},
     "output_type": "display_data"
    },
    {
     "data": {
      "text/html": [
       "\n",
       "    <div>\n",
       "      \n",
       "      <progress value='9354' max='9354' style='width:300px; height:20px; vertical-align: middle;'></progress>\n",
       "      [9354/9354 32:40, Epoch 3/3]\n",
       "    </div>\n",
       "    <table border=\"1\" class=\"dataframe\">\n",
       "  <thead>\n",
       " <tr style=\"text-align: left;\">\n",
       "      <th>Epoch</th>\n",
       "      <th>Training Loss</th>\n",
       "      <th>Validation Loss</th>\n",
       "      <th>Accuracy</th>\n",
       "    </tr>\n",
       "  </thead>\n",
       "  <tbody>\n",
       "    <tr>\n",
       "      <td>1</td>\n",
       "      <td>0.143300</td>\n",
       "      <td>0.189338</td>\n",
       "      <td>0.952690</td>\n",
       "    </tr>\n",
       "    <tr>\n",
       "      <td>2</td>\n",
       "      <td>0.109000</td>\n",
       "      <td>0.165671</td>\n",
       "      <td>0.959854</td>\n",
       "    </tr>\n",
       "    <tr>\n",
       "      <td>3</td>\n",
       "      <td>0.080600</td>\n",
       "      <td>0.182245</td>\n",
       "      <td>0.959388</td>\n",
       "    </tr>\n",
       "  </tbody>\n",
       "</table><p>"
      ],
      "text/plain": [
       "<IPython.core.display.HTML object>"
      ]
     },
     "metadata": {},
     "output_type": "display_data"
    },
    {
     "data": {
      "text/html": [
       "\n",
       "    <div>\n",
       "      \n",
       "      <progress value='369' max='369' style='width:300px; height:20px; vertical-align: middle;'></progress>\n",
       "      [369/369 00:35]\n",
       "    </div>\n",
       "    "
      ],
      "text/plain": [
       "<IPython.core.display.HTML object>"
      ]
     },
     "metadata": {},
     "output_type": "display_data"
    },
    {
     "name": "stdout",
     "output_type": "stream",
     "text": [
      "Accuracy: 0.9599\n",
      "\n",
      "Train: [2014, 2015, 2016]  Test: 2017\n"
     ]
    },
    {
     "name": "stderr",
     "output_type": "stream",
     "text": [
      "Some weights of RobertaForSequenceClassification were not initialized from the model checkpoint at PlanTL-GOB-ES/roberta-base-ca and are newly initialized: ['classifier.dense.bias', 'classifier.dense.weight', 'classifier.out_proj.bias', 'classifier.out_proj.weight']\n",
      "You should probably TRAIN this model on a down-stream task to be able to use it for predictions and inference.\n"
     ]
    },
    {
     "data": {
      "application/vnd.jupyter.widget-view+json": {
       "model_id": "4758b13ad56641cc9c39d939a941e593",
       "version_major": 2,
       "version_minor": 0
      },
      "text/plain": [
       "Map:   0%|          | 0/89590 [00:00<?, ? examples/s]"
      ]
     },
     "metadata": {},
     "output_type": "display_data"
    },
    {
     "data": {
      "application/vnd.jupyter.widget-view+json": {
       "model_id": "64593e491928458c8ac9cbb512b9ae98",
       "version_major": 2,
       "version_minor": 0
      },
      "text/plain": [
       "Map:   0%|          | 0/25813 [00:00<?, ? examples/s]"
      ]
     },
     "metadata": {},
     "output_type": "display_data"
    },
    {
     "data": {
      "text/html": [
       "\n",
       "    <div>\n",
       "      \n",
       "      <progress value='8400' max='8400' style='width:300px; height:20px; vertical-align: middle;'></progress>\n",
       "      [8400/8400 29:43, Epoch 3/3]\n",
       "    </div>\n",
       "    <table border=\"1\" class=\"dataframe\">\n",
       "  <thead>\n",
       " <tr style=\"text-align: left;\">\n",
       "      <th>Epoch</th>\n",
       "      <th>Training Loss</th>\n",
       "      <th>Validation Loss</th>\n",
       "      <th>Accuracy</th>\n",
       "    </tr>\n",
       "  </thead>\n",
       "  <tbody>\n",
       "    <tr>\n",
       "      <td>1</td>\n",
       "      <td>0.152900</td>\n",
       "      <td>0.160359</td>\n",
       "      <td>0.961337</td>\n",
       "    </tr>\n",
       "    <tr>\n",
       "      <td>2</td>\n",
       "      <td>0.105200</td>\n",
       "      <td>0.158265</td>\n",
       "      <td>0.960640</td>\n",
       "    </tr>\n",
       "    <tr>\n",
       "      <td>3</td>\n",
       "      <td>0.068100</td>\n",
       "      <td>0.157195</td>\n",
       "      <td>0.964553</td>\n",
       "    </tr>\n",
       "  </tbody>\n",
       "</table><p>"
      ],
      "text/plain": [
       "<IPython.core.display.HTML object>"
      ]
     },
     "metadata": {},
     "output_type": "display_data"
    },
    {
     "data": {
      "text/html": [
       "\n",
       "    <div>\n",
       "      \n",
       "      <progress value='404' max='404' style='width:300px; height:20px; vertical-align: middle;'></progress>\n",
       "      [404/404 00:39]\n",
       "    </div>\n",
       "    "
      ],
      "text/plain": [
       "<IPython.core.display.HTML object>"
      ]
     },
     "metadata": {},
     "output_type": "display_data"
    },
    {
     "name": "stdout",
     "output_type": "stream",
     "text": [
      "Accuracy: 0.9646\n",
      "\n",
      "Train: [2015, 2016, 2017]  Test: 2018\n"
     ]
    },
    {
     "name": "stderr",
     "output_type": "stream",
     "text": [
      "Some weights of RobertaForSequenceClassification were not initialized from the model checkpoint at PlanTL-GOB-ES/roberta-base-ca and are newly initialized: ['classifier.dense.bias', 'classifier.dense.weight', 'classifier.out_proj.bias', 'classifier.out_proj.weight']\n",
      "You should probably TRAIN this model on a down-stream task to be able to use it for predictions and inference.\n"
     ]
    },
    {
     "data": {
      "application/vnd.jupyter.widget-view+json": {
       "model_id": "a7f7fce77f874f9da74126d888dc9e75",
       "version_major": 2,
       "version_minor": 0
      },
      "text/plain": [
       "Map:   0%|          | 0/78814 [00:00<?, ? examples/s]"
      ]
     },
     "metadata": {},
     "output_type": "display_data"
    },
    {
     "data": {
      "application/vnd.jupyter.widget-view+json": {
       "model_id": "562be5aaef3b42b69053be479365cda0",
       "version_major": 2,
       "version_minor": 0
      },
      "text/plain": [
       "Map:   0%|          | 0/24734 [00:00<?, ? examples/s]"
      ]
     },
     "metadata": {},
     "output_type": "display_data"
    },
    {
     "data": {
      "text/html": [
       "\n",
       "    <div>\n",
       "      \n",
       "      <progress value='7389' max='7389' style='width:300px; height:20px; vertical-align: middle;'></progress>\n",
       "      [7389/7389 26:19, Epoch 3/3]\n",
       "    </div>\n",
       "    <table border=\"1\" class=\"dataframe\">\n",
       "  <thead>\n",
       " <tr style=\"text-align: left;\">\n",
       "      <th>Epoch</th>\n",
       "      <th>Training Loss</th>\n",
       "      <th>Validation Loss</th>\n",
       "      <th>Accuracy</th>\n",
       "    </tr>\n",
       "  </thead>\n",
       "  <tbody>\n",
       "    <tr>\n",
       "      <td>1</td>\n",
       "      <td>0.139900</td>\n",
       "      <td>0.185398</td>\n",
       "      <td>0.955163</td>\n",
       "    </tr>\n",
       "    <tr>\n",
       "      <td>2</td>\n",
       "      <td>0.115300</td>\n",
       "      <td>0.146191</td>\n",
       "      <td>0.964826</td>\n",
       "    </tr>\n",
       "    <tr>\n",
       "      <td>3</td>\n",
       "      <td>0.068400</td>\n",
       "      <td>0.156998</td>\n",
       "      <td>0.964138</td>\n",
       "    </tr>\n",
       "  </tbody>\n",
       "</table><p>"
      ],
      "text/plain": [
       "<IPython.core.display.HTML object>"
      ]
     },
     "metadata": {},
     "output_type": "display_data"
    },
    {
     "data": {
      "text/html": [
       "\n",
       "    <div>\n",
       "      \n",
       "      <progress value='387' max='387' style='width:300px; height:20px; vertical-align: middle;'></progress>\n",
       "      [387/387 00:37]\n",
       "    </div>\n",
       "    "
      ],
      "text/plain": [
       "<IPython.core.display.HTML object>"
      ]
     },
     "metadata": {},
     "output_type": "display_data"
    },
    {
     "name": "stdout",
     "output_type": "stream",
     "text": [
      "Accuracy: 0.9648\n",
      "\n",
      "Train: [2016, 2017, 2018]  Test: 2019\n"
     ]
    },
    {
     "name": "stderr",
     "output_type": "stream",
     "text": [
      "Some weights of RobertaForSequenceClassification were not initialized from the model checkpoint at PlanTL-GOB-ES/roberta-base-ca and are newly initialized: ['classifier.dense.bias', 'classifier.dense.weight', 'classifier.out_proj.bias', 'classifier.out_proj.weight']\n",
      "You should probably TRAIN this model on a down-stream task to be able to use it for predictions and inference.\n"
     ]
    },
    {
     "data": {
      "application/vnd.jupyter.widget-view+json": {
       "model_id": "a8e30a2e1b804bc897723729fce48b17",
       "version_major": 2,
       "version_minor": 0
      },
      "text/plain": [
       "Map:   0%|          | 0/74136 [00:00<?, ? examples/s]"
      ]
     },
     "metadata": {},
     "output_type": "display_data"
    },
    {
     "data": {
      "application/vnd.jupyter.widget-view+json": {
       "model_id": "0b265c0040b749a5b0d788dc0f181b78",
       "version_major": 2,
       "version_minor": 0
      },
      "text/plain": [
       "Map:   0%|          | 0/22365 [00:00<?, ? examples/s]"
      ]
     },
     "metadata": {},
     "output_type": "display_data"
    },
    {
     "data": {
      "text/html": [
       "\n",
       "    <div>\n",
       "      \n",
       "      <progress value='6951' max='6951' style='width:300px; height:20px; vertical-align: middle;'></progress>\n",
       "      [6951/6951 24:42, Epoch 3/3]\n",
       "    </div>\n",
       "    <table border=\"1\" class=\"dataframe\">\n",
       "  <thead>\n",
       " <tr style=\"text-align: left;\">\n",
       "      <th>Epoch</th>\n",
       "      <th>Training Loss</th>\n",
       "      <th>Validation Loss</th>\n",
       "      <th>Accuracy</th>\n",
       "    </tr>\n",
       "  </thead>\n",
       "  <tbody>\n",
       "    <tr>\n",
       "      <td>1</td>\n",
       "      <td>0.152500</td>\n",
       "      <td>0.147682</td>\n",
       "      <td>0.965079</td>\n",
       "    </tr>\n",
       "    <tr>\n",
       "      <td>2</td>\n",
       "      <td>0.104800</td>\n",
       "      <td>0.132306</td>\n",
       "      <td>0.970132</td>\n",
       "    </tr>\n",
       "    <tr>\n",
       "      <td>3</td>\n",
       "      <td>0.078200</td>\n",
       "      <td>0.126502</td>\n",
       "      <td>0.972144</td>\n",
       "    </tr>\n",
       "  </tbody>\n",
       "</table><p>"
      ],
      "text/plain": [
       "<IPython.core.display.HTML object>"
      ]
     },
     "metadata": {},
     "output_type": "display_data"
    },
    {
     "data": {
      "text/html": [
       "\n",
       "    <div>\n",
       "      \n",
       "      <progress value='350' max='350' style='width:300px; height:20px; vertical-align: middle;'></progress>\n",
       "      [350/350 00:33]\n",
       "    </div>\n",
       "    "
      ],
      "text/plain": [
       "<IPython.core.display.HTML object>"
      ]
     },
     "metadata": {},
     "output_type": "display_data"
    },
    {
     "name": "stdout",
     "output_type": "stream",
     "text": [
      "Accuracy: 0.9721\n",
      "\n",
      "Train: [2017, 2018, 2019]  Test: 2020\n"
     ]
    },
    {
     "name": "stderr",
     "output_type": "stream",
     "text": [
      "Some weights of RobertaForSequenceClassification were not initialized from the model checkpoint at PlanTL-GOB-ES/roberta-base-ca and are newly initialized: ['classifier.dense.bias', 'classifier.dense.weight', 'classifier.out_proj.bias', 'classifier.out_proj.weight']\n",
      "You should probably TRAIN this model on a down-stream task to be able to use it for predictions and inference.\n"
     ]
    },
    {
     "data": {
      "application/vnd.jupyter.widget-view+json": {
       "model_id": "6ca519094502432e99b0ab15a7d3f31e",
       "version_major": 2,
       "version_minor": 0
      },
      "text/plain": [
       "Map:   0%|          | 0/72912 [00:00<?, ? examples/s]"
      ]
     },
     "metadata": {},
     "output_type": "display_data"
    },
    {
     "data": {
      "application/vnd.jupyter.widget-view+json": {
       "model_id": "067dea65b1b3400eb8216ee9959f5000",
       "version_major": 2,
       "version_minor": 0
      },
      "text/plain": [
       "Map:   0%|          | 0/20702 [00:00<?, ? examples/s]"
      ]
     },
     "metadata": {},
     "output_type": "display_data"
    },
    {
     "data": {
      "text/html": [
       "\n",
       "    <div>\n",
       "      \n",
       "      <progress value='6837' max='6837' style='width:300px; height:20px; vertical-align: middle;'></progress>\n",
       "      [6837/6837 24:12, Epoch 3/3]\n",
       "    </div>\n",
       "    <table border=\"1\" class=\"dataframe\">\n",
       "  <thead>\n",
       " <tr style=\"text-align: left;\">\n",
       "      <th>Epoch</th>\n",
       "      <th>Training Loss</th>\n",
       "      <th>Validation Loss</th>\n",
       "      <th>Accuracy</th>\n",
       "    </tr>\n",
       "  </thead>\n",
       "  <tbody>\n",
       "    <tr>\n",
       "      <td>1</td>\n",
       "      <td>0.163300</td>\n",
       "      <td>0.224756</td>\n",
       "      <td>0.949425</td>\n",
       "    </tr>\n",
       "    <tr>\n",
       "      <td>2</td>\n",
       "      <td>0.091400</td>\n",
       "      <td>0.224191</td>\n",
       "      <td>0.952806</td>\n",
       "    </tr>\n",
       "    <tr>\n",
       "      <td>3</td>\n",
       "      <td>0.053100</td>\n",
       "      <td>0.235773</td>\n",
       "      <td>0.954062</td>\n",
       "    </tr>\n",
       "  </tbody>\n",
       "</table><p>"
      ],
      "text/plain": [
       "<IPython.core.display.HTML object>"
      ]
     },
     "metadata": {},
     "output_type": "display_data"
    },
    {
     "data": {
      "text/html": [
       "\n",
       "    <div>\n",
       "      \n",
       "      <progress value='324' max='324' style='width:300px; height:20px; vertical-align: middle;'></progress>\n",
       "      [324/324 00:31]\n",
       "    </div>\n",
       "    "
      ],
      "text/plain": [
       "<IPython.core.display.HTML object>"
      ]
     },
     "metadata": {},
     "output_type": "display_data"
    },
    {
     "name": "stdout",
     "output_type": "stream",
     "text": [
      "Accuracy: 0.9541\n"
     ]
    },
    {
     "ename": "NameError",
     "evalue": "name 't' is not defined",
     "output_type": "error",
     "traceback": [
      "\u001b[0;31m---------------------------------------------------------------------------\u001b[0m",
      "\u001b[0;31mNameError\u001b[0m                                 Traceback (most recent call last)",
      "Cell \u001b[0;32mIn[19], line 127\u001b[0m\n\u001b[1;32m    124\u001b[0m     \u001b[38;5;28mprint\u001b[39m(\u001b[38;5;124mf\u001b[39m\u001b[38;5;124m\"\u001b[39m\u001b[38;5;124mMean accuracy: \u001b[39m\u001b[38;5;132;01m{\u001b[39;00mmean\u001b[38;5;132;01m:\u001b[39;00m\u001b[38;5;124m.3f\u001b[39m\u001b[38;5;132;01m}\u001b[39;00m\u001b[38;5;124m\"\u001b[39m)\n\u001b[1;32m    125\u001b[0m     \u001b[38;5;28mprint\u001b[39m(\u001b[38;5;124mf\u001b[39m\u001b[38;5;124m\"\u001b[39m\u001b[38;5;124m95% CI: [\u001b[39m\u001b[38;5;132;01m{\u001b[39;00mmean\u001b[38;5;250m \u001b[39m\u001b[38;5;241m-\u001b[39m\u001b[38;5;250m \u001b[39mci_halfwidth\u001b[38;5;132;01m:\u001b[39;00m\u001b[38;5;124m.3f\u001b[39m\u001b[38;5;132;01m}\u001b[39;00m\u001b[38;5;124m, \u001b[39m\u001b[38;5;132;01m{\u001b[39;00mmean\u001b[38;5;250m \u001b[39m\u001b[38;5;241m+\u001b[39m\u001b[38;5;250m \u001b[39mci_halfwidth\u001b[38;5;132;01m:\u001b[39;00m\u001b[38;5;124m.3f\u001b[39m\u001b[38;5;132;01m}\u001b[39;00m\u001b[38;5;124m]\u001b[39m\u001b[38;5;124m\"\u001b[39m)\n\u001b[0;32m--> 127\u001b[0m \u001b[43mprint_ci\u001b[49m\u001b[43m(\u001b[49m\u001b[43maccuracies_2_1\u001b[49m\u001b[43m,\u001b[49m\u001b[43m \u001b[49m\u001b[38;5;124;43m\"\u001b[39;49m\u001b[38;5;124;43m2 train + 1 test\u001b[39;49m\u001b[38;5;124;43m\"\u001b[39;49m\u001b[43m)\u001b[49m\n\u001b[1;32m    128\u001b[0m print_ci(accuracies_3_1, \u001b[38;5;124m\"\u001b[39m\u001b[38;5;124m3 train + 1 test\u001b[39m\u001b[38;5;124m\"\u001b[39m)\n",
      "Cell \u001b[0;32mIn[19], line 121\u001b[0m, in \u001b[0;36mprint_ci\u001b[0;34m(accuracies, label)\u001b[0m\n\u001b[1;32m    119\u001b[0m n \u001b[38;5;241m=\u001b[39m \u001b[38;5;28mlen\u001b[39m(acc)\n\u001b[1;32m    120\u001b[0m alpha \u001b[38;5;241m=\u001b[39m \u001b[38;5;241m0.05\u001b[39m\n\u001b[0;32m--> 121\u001b[0m t_score \u001b[38;5;241m=\u001b[39m \u001b[43mt\u001b[49m\u001b[38;5;241m.\u001b[39mppf(\u001b[38;5;241m1\u001b[39m \u001b[38;5;241m-\u001b[39m alpha\u001b[38;5;241m/\u001b[39m\u001b[38;5;241m2\u001b[39m, n \u001b[38;5;241m-\u001b[39m \u001b[38;5;241m1\u001b[39m)\n\u001b[1;32m    122\u001b[0m ci_halfwidth \u001b[38;5;241m=\u001b[39m t_score \u001b[38;5;241m*\u001b[39m std \u001b[38;5;241m/\u001b[39m np\u001b[38;5;241m.\u001b[39msqrt(n)\n\u001b[1;32m    123\u001b[0m \u001b[38;5;28mprint\u001b[39m(\u001b[38;5;124mf\u001b[39m\u001b[38;5;124m\"\u001b[39m\u001b[38;5;130;01m\\n\u001b[39;00m\u001b[38;5;132;01m{\u001b[39;00mlabel\u001b[38;5;132;01m}\u001b[39;00m\u001b[38;5;124m:\u001b[39m\u001b[38;5;124m\"\u001b[39m)\n",
      "\u001b[0;31mNameError\u001b[0m: name 't' is not defined"
     ]
    }
   ],
   "source": [
    "model_checkpoint = \"PlanTL-GOB-ES/roberta-base-ca\"\n",
    "max_length = 128\n",
    "\n",
    "def tokenize_batch(batch):\n",
    "    return tokenizer(\n",
    "        batch['model_input'],\n",
    "        padding='max_length',\n",
    "        truncation=True,\n",
    "        max_length=max_length\n",
    "    )\n",
    "\n",
    "years = sorted(df['year'].unique())\n",
    "accuracies_2_1 = []\n",
    "accuracies_3_1 = []\n",
    "\n",
    "# 1. 2 years train, 1 year test\n",
    "for i in range(len(years)-2):\n",
    "    train_years = years[i:i+2]\n",
    "    test_year   = years[i+2]\n",
    "\n",
    "    print(f\"\\nTrain: {train_years}  Test: {test_year}\")\n",
    "    train_df = df[df['year'].isin(train_years)].copy().rename(columns={'class':'labels'})\n",
    "    test_df  = df[df['year'] == test_year].copy().rename(columns={'class':'labels'})\n",
    "\n",
    "    tokenizer = AutoTokenizer.from_pretrained(model_checkpoint)\n",
    "    model = AutoModelForSequenceClassification.from_pretrained(model_checkpoint, num_labels=21)\n",
    "\n",
    "    training_args = TrainingArguments(\n",
    "        output_dir='./roberta-ca-results',\n",
    "        per_device_train_batch_size=32,\n",
    "        per_device_eval_batch_size=64,\n",
    "        num_train_epochs=3,\n",
    "        learning_rate=4e-5,\n",
    "        warmup_steps=500,\n",
    "        load_best_model_at_end=True,\n",
    "        metric_for_best_model='accuracy',\n",
    "        eval_strategy=\"epoch\",\n",
    "        save_strategy=\"epoch\",\n",
    "        greater_is_better=True,\n",
    "        logging_dir='./logs',\n",
    "        logging_steps=100,\n",
    "        report_to=\"none\",\n",
    "        seed=42,\n",
    "        fp16=True,\n",
    "        max_grad_norm=1.0\n",
    "    )\n",
    "\n",
    "    train_ds = Dataset.from_pandas(train_df).map(tokenize_batch, batched=True)\n",
    "    test_ds  = Dataset.from_pandas(test_df ).map(tokenize_batch, batched=True)\n",
    "\n",
    "    trainer = Trainer(\n",
    "        model=model,\n",
    "        args=training_args,\n",
    "        train_dataset=train_ds,\n",
    "        eval_dataset=test_ds,\n",
    "        compute_metrics=lambda eval_pred: {'accuracy': accuracy_score(eval_pred.label_ids, np.argmax(eval_pred.predictions, axis=-1))}\n",
    "    )\n",
    "\n",
    "    trainer.train()\n",
    "    result = trainer.evaluate(test_ds)\n",
    "    acc = result['eval_accuracy']\n",
    "    accuracies_2_1.append(acc)\n",
    "    print(f\"Accuracy: {acc:.4f}\")\n",
    "\n",
    "# 2. 3 years train, 1 year test\n",
    "for i in range(len(years)-3):\n",
    "    train_years = years[i:i+3]\n",
    "    test_year   = years[i+3]\n",
    "\n",
    "    print(f\"\\nTrain: {train_years}  Test: {test_year}\")\n",
    "    train_df = df[df['year'].isin(train_years)].copy().rename(columns={'class':'labels'})\n",
    "    test_df  = df[df['year'] == test_year].copy().rename(columns={'class':'labels'})\n",
    "\n",
    "    tokenizer = AutoTokenizer.from_pretrained(model_checkpoint)\n",
    "    model = AutoModelForSequenceClassification.from_pretrained(model_checkpoint, num_labels=21)\n",
    "\n",
    "    training_args = TrainingArguments(\n",
    "        output_dir='./roberta-ca-results',\n",
    "        per_device_train_batch_size=32,\n",
    "        per_device_eval_batch_size=64,\n",
    "        num_train_epochs=3,\n",
    "        learning_rate=4e-5,\n",
    "        warmup_steps=500,\n",
    "        load_best_model_at_end=True,\n",
    "        metric_for_best_model='accuracy',\n",
    "        eval_strategy=\"epoch\",\n",
    "        save_strategy=\"epoch\",\n",
    "        greater_is_better=True,\n",
    "        logging_dir='./logs',\n",
    "        logging_steps=100,\n",
    "        report_to=\"none\",\n",
    "        seed=42,\n",
    "        fp16=True,\n",
    "        max_grad_norm=1.0\n",
    "    )\n",
    "\n",
    "    train_ds = Dataset.from_pandas(train_df).map(tokenize_batch, batched=True)\n",
    "    test_ds  = Dataset.from_pandas(test_df ).map(tokenize_batch, batched=True)\n",
    "\n",
    "    trainer = Trainer(\n",
    "        model=model,\n",
    "        args=training_args,\n",
    "        train_dataset=train_ds,\n",
    "        eval_dataset=test_ds,\n",
    "        compute_metrics=lambda eval_pred: {'accuracy': accuracy_score(eval_pred.label_ids, np.argmax(eval_pred.predictions, axis=-1))}\n",
    "    )\n",
    "\n",
    "    trainer.train()\n",
    "    result = trainer.evaluate(test_ds)\n",
    "    acc = result['eval_accuracy']\n",
    "    accuracies_3_1.append(acc)\n",
    "    print(f\"Accuracy: {acc:.4f}\")\n",
    "\n",
    "\n"
   ]
  },
  {
   "cell_type": "code",
   "execution_count": 21,
   "id": "7644901d",
   "metadata": {},
   "outputs": [
    {
     "name": "stdout",
     "output_type": "stream",
     "text": [
      "\n",
      "2 train + 1 test:\n",
      "Mean accuracy: 0.960\n",
      "95% CI: [0.953, 0.968]\n",
      "\n",
      "3 train + 1 test:\n",
      "Mean accuracy: 0.963\n",
      "95% CI: [0.955, 0.971]\n"
     ]
    }
   ],
   "source": [
    "# 3. Conf int\n",
    "def print_ci(accuracies, label):\n",
    "    acc = np.array(accuracies)\n",
    "    mean = acc.mean()\n",
    "    std = acc.std(ddof=1)\n",
    "    n = len(acc)\n",
    "    alpha = 0.05\n",
    "    t_score = t.ppf(1 - alpha/2, n - 1)\n",
    "    ci_halfwidth = t_score * std / np.sqrt(n)\n",
    "    print(f\"\\n{label}:\")\n",
    "    print(f\"Mean accuracy: {mean:.3f}\")\n",
    "    print(f\"95% CI: [{mean - ci_halfwidth:.3f}, {mean + ci_halfwidth:.3f}]\")\n",
    "\n",
    "print_ci(accuracies_2_1, \"2 train + 1 test\")\n",
    "print_ci(accuracies_3_1, \"3 train + 1 test\")"
   ]
  }
 ],
 "metadata": {
  "kernelspec": {
   "display_name": "neuro",
   "language": "python",
   "name": "python3"
  },
  "language_info": {
   "codemirror_mode": {
    "name": "ipython",
    "version": 3
   },
   "file_extension": ".py",
   "mimetype": "text/x-python",
   "name": "python",
   "nbconvert_exporter": "python",
   "pygments_lexer": "ipython3",
   "version": "3.10.18"
  }
 },
 "nbformat": 4,
 "nbformat_minor": 5
}
