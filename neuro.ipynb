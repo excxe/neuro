{
 "cells": [
  {
   "cell_type": "code",
   "execution_count": 1,
   "id": "f2b53792",
   "metadata": {},
   "outputs": [],
   "source": [
    "import pandas as pd\n",
    "import numpy as np\n",
    "import matplotlib.pyplot as plt\n",
    "import seaborn as sns\n",
    "\n",
    "from sklearn.model_selection import train_test_split\n",
    "from sklearn.metrics import classification_report, confusion_matrix, accuracy_score, f1_score, precision_score, recall_score\n",
    "\n",
    "import os\n",
    "os.environ[\"CUDA_LAUNCH_BLOCKING\"] = \"1\"   # Force CUDA to be synchronous\n",
    "\n",
    "import torch\n",
    "from transformers import AutoTokenizer, AutoModelForSequenceClassification, Trainer, TrainingArguments\n",
    "\n",
    "from tqdm.notebook import tqdm\n",
    "import re\n",
    "from datasets import Dataset"
   ]
  },
  {
   "cell_type": "markdown",
   "id": "eb809c33",
   "metadata": {},
   "source": [
    "## 1. Data Loading and Initial Exploration\n",
    "\n",
    "In this section, we load the training dataset and perform an initial exploratory analysis:  \n",
    "- Check the shape and structure of the data  \n",
    "- View several sample rows  \n",
    "- Visualize class and year distributions  \n",
    "- Calculate the average and median length of texts\n"
   ]
  },
  {
   "cell_type": "code",
   "execution_count": 2,
   "id": "78aeda4a",
   "metadata": {},
   "outputs": [],
   "source": [
    "DATASET = pd.read_csv(\"train.csv\")"
   ]
  },
  {
   "cell_type": "code",
   "execution_count": 3,
   "id": "361a4c89",
   "metadata": {},
   "outputs": [
    {
     "name": "stdout",
     "output_type": "stream",
     "text": [
      "Number of samples: 216974\n",
      "Columns: ['id', 'text', 'class', 'year']\n",
      "Number of unique classes: 21\n",
      "Years in the dataset: [2013, 2014, 2015, 2016, 2017, 2018, 2019, 2020]\n"
     ]
    },
    {
     "data": {
      "text/html": [
       "<div>\n",
       "<style scoped>\n",
       "    .dataframe tbody tr th:only-of-type {\n",
       "        vertical-align: middle;\n",
       "    }\n",
       "\n",
       "    .dataframe tbody tr th {\n",
       "        vertical-align: top;\n",
       "    }\n",
       "\n",
       "    .dataframe thead th {\n",
       "        text-align: right;\n",
       "    }\n",
       "</style>\n",
       "<table border=\"1\" class=\"dataframe\">\n",
       "  <thead>\n",
       "    <tr style=\"text-align: right;\">\n",
       "      <th></th>\n",
       "      <th>id</th>\n",
       "      <th>text</th>\n",
       "      <th>class</th>\n",
       "      <th>year</th>\n",
       "    </tr>\n",
       "  </thead>\n",
       "  <tbody>\n",
       "    <tr>\n",
       "      <th>203702</th>\n",
       "      <td>203702</td>\n",
       "      <td>Aprovació inicial del projecte de reparcel·lac...</td>\n",
       "      <td>17</td>\n",
       "      <td>2020</td>\n",
       "    </tr>\n",
       "    <tr>\n",
       "      <th>184334</th>\n",
       "      <td>184334</td>\n",
       "      <td>Aprovació inicial del Pla estratègic de subven...</td>\n",
       "      <td>3</td>\n",
       "      <td>2019</td>\n",
       "    </tr>\n",
       "    <tr>\n",
       "      <th>173487</th>\n",
       "      <td>173487</td>\n",
       "      <td>Aprovació definitiva del pressupost general de...</td>\n",
       "      <td>12</td>\n",
       "      <td>2018</td>\n",
       "    </tr>\n",
       "    <tr>\n",
       "      <th>214021</th>\n",
       "      <td>214021</td>\n",
       "      <td>Aprovació provisional dels expedients modifica...</td>\n",
       "      <td>12</td>\n",
       "      <td>2020</td>\n",
       "    </tr>\n",
       "    <tr>\n",
       "      <th>69324</th>\n",
       "      <td>69324</td>\n",
       "      <td>Aprovació definitiva del Projecte de construcc...</td>\n",
       "      <td>0</td>\n",
       "      <td>2014</td>\n",
       "    </tr>\n",
       "    <tr>\n",
       "      <th>163647</th>\n",
       "      <td>163647</td>\n",
       "      <td>Convocatòria d'ajuts per activitats d'estiu.</td>\n",
       "      <td>15</td>\n",
       "      <td>2018</td>\n",
       "    </tr>\n",
       "    <tr>\n",
       "      <th>121377</th>\n",
       "      <td>121377</td>\n",
       "      <td>Licitació per al subministrament i manteniment...</td>\n",
       "      <td>0</td>\n",
       "      <td>2016</td>\n",
       "    </tr>\n",
       "    <tr>\n",
       "      <th>114672</th>\n",
       "      <td>114672</td>\n",
       "      <td>Aprovació inicial de la modificació de crèdit ...</td>\n",
       "      <td>12</td>\n",
       "      <td>2016</td>\n",
       "    </tr>\n",
       "    <tr>\n",
       "      <th>176019</th>\n",
       "      <td>176019</td>\n",
       "      <td>Licitació del contracte relatiu a la implantac...</td>\n",
       "      <td>0</td>\n",
       "      <td>2019</td>\n",
       "    </tr>\n",
       "    <tr>\n",
       "      <th>120122</th>\n",
       "      <td>120122</td>\n",
       "      <td>Licitació del contracte privat d'assegurances ...</td>\n",
       "      <td>4</td>\n",
       "      <td>2016</td>\n",
       "    </tr>\n",
       "  </tbody>\n",
       "</table>\n",
       "</div>"
      ],
      "text/plain": [
       "            id                                               text  class  year\n",
       "203702  203702  Aprovació inicial del projecte de reparcel·lac...     17  2020\n",
       "184334  184334  Aprovació inicial del Pla estratègic de subven...      3  2019\n",
       "173487  173487  Aprovació definitiva del pressupost general de...     12  2018\n",
       "214021  214021  Aprovació provisional dels expedients modifica...     12  2020\n",
       "69324    69324  Aprovació definitiva del Projecte de construcc...      0  2014\n",
       "163647  163647       Convocatòria d'ajuts per activitats d'estiu.     15  2018\n",
       "121377  121377  Licitació per al subministrament i manteniment...      0  2016\n",
       "114672  114672  Aprovació inicial de la modificació de crèdit ...     12  2016\n",
       "176019  176019  Licitació del contracte relatiu a la implantac...      0  2019\n",
       "120122  120122  Licitació del contracte privat d'assegurances ...      4  2016"
      ]
     },
     "metadata": {},
     "output_type": "display_data"
    }
   ],
   "source": [
    "df = DATASET\n",
    "\n",
    "print(\"Number of samples:\", len(df))\n",
    "print(\"Columns:\", df.columns.tolist())\n",
    "print(\"Number of unique classes:\", df['class'].nunique())\n",
    "print(\"Years in the dataset:\", sorted(df['year'].unique()))\n",
    "\n",
    "display(df.sample(10))\n"
   ]
  },
  {
   "cell_type": "code",
   "execution_count": 4,
   "id": "23239129",
   "metadata": {},
   "outputs": [
    {
     "data": {
      "image/png": "[encoded data removed]",
      "text/plain": [
       "<Figure size 1000x400 with 1 Axes>"
      ]
     },
     "metadata": {},
     "output_type": "display_data"
    },
    {
     "data": {
      "image/png": "[encoded data removed]",
      "text/plain": [
       "<Figure size 1000x400 with 1 Axes>"
      ]
     },
     "metadata": {},
     "output_type": "display_data"
    },
    {
     "data": {
      "image/png": "[encoded data removed]",
      "text/plain": [
       "<Figure size 1400x600 with 1 Axes>"
      ]
     },
     "metadata": {},
     "output_type": "display_data"
    }
   ],
   "source": [
    "# Distribution of samples across classes to identify any class imbalance, which can affect training and evaluation.\n",
    "plt.figure(figsize=(10,4))\n",
    "sns.countplot(x='class', data=df)\n",
    "plt.title('Distribution by Class')\n",
    "plt.xlabel('Class')\n",
    "plt.ylabel('Count')\n",
    "plt.show()\n",
    "\n",
    "# Distribution of samples by year to check for temporal patterns or data skews that may influence model generalization.\n",
    "plt.figure(figsize=(10,4))\n",
    "sns.countplot(x='year', data=df)\n",
    "plt.title('Distribution by Year')\n",
    "plt.xlabel('Year')\n",
    "plt.ylabel('Count')\n",
    "plt.show()\n",
    "\n",
    "# Distribution of classes within each year\n",
    "plt.figure(figsize=(14,6))\n",
    "sns.countplot(x='year', hue='class', data=df)\n",
    "plt.title('Class Distribution by Year')\n",
    "plt.xlabel('Year')\n",
    "plt.ylabel('Count')\n",
    "plt.legend(title='Class', bbox_to_anchor=(1.05, 1), loc='upper left')\n",
    "plt.show()\n"
   ]
  },
  {
   "cell_type": "code",
   "execution_count": 5,
   "id": "12ee5d8c",
   "metadata": {},
   "outputs": [
    {
     "name": "stdout",
     "output_type": "stream",
     "text": [
      "Average text length (characters): 99.16521334353425\n",
      "Median text length (characters): 94.0\n",
      "Average text length (words): 14.576990791523409\n",
      "Median text length (words): 14.0\n"
     ]
    }
   ],
   "source": [
    "# Compute the length of each text in characters; this helps in understanding text size variability and guides preprocessing (e.g., max sequence length for BERT).\n",
    "df['text_len_chars'] = df['text'].str.len()\n",
    "\n",
    "# Compute the length of each text in words to get additional statistics about text complexity and to compare with character-based length.\n",
    "df['text_len_words'] = df['text'].str.split().apply(len)\n",
    "\n",
    "# Output average and median values to summarize dataset and support decisions on padding/truncation for modeling.\n",
    "print(\"Average text length (characters):\", df['text_len_chars'].mean())\n",
    "print(\"Median text length (characters):\", df['text_len_chars'].median())\n",
    "print(\"Average text length (words):\", df['text_len_words'].mean())\n",
    "print(\"Median text length (words):\", df['text_len_words'].median())\n"
   ]
  },
  {
   "cell_type": "markdown",
   "id": "b861554a",
   "metadata": {},
   "source": [
    "### Summary of Data Exploration\n",
    "\n",
    "- The dataset shows a strong class imbalance:\n",
    "  - Classes 0 and 12 are much more frequent than others.\n",
    "  - Several classes (such as 5, 7, 13, 15, and 20) have very few samples, which may lead to poor generalization for these classes.\n",
    "- The average text is short (~99 characters or ~14 words).\n",
    "- Year distribution is skewed toward earlier years (2013–2014).\n",
    "\n",
    "**To mitigate the impact of class imbalance, we will:**\n",
    "- Use stratified train/validation split to preserve class proportions during training and evaluation.\n",
    "- Monitor not only overall accuracy but also macro-F1 and the confusion matrix to assess performance across all classes, including minority ones.\n",
    "- Consider implementing class weights in the loss function if we observe poor recognition of rare classes during validation.\n"
   ]
  },
  {
   "cell_type": "markdown",
   "id": "c80c3265",
   "metadata": {},
   "source": [
    "## 2. Text Cleaning and Basic Preprocessing\n",
    "\n",
    "In this section:\n",
    "- Convert all texts to lowercase.\n",
    "- Remove special characters, keeping only letters, numbers, and spaces.\n",
    "- Stopwords (including Catalan function words) are intentionally preserved, as transformer-based models benefit from full sentence structure.\n",
    "- Analyze how text cleaning affects text length and update statistics."
   ]
  },
  {
   "cell_type": "code",
   "execution_count": 6,
   "id": "9ac0e474",
   "metadata": {},
   "outputs": [],
   "source": [
    "def clean_text(text):\n",
    "    # Convert all characters to lowercase for normalization and to reduce vocabulary size for the model.\n",
    "    text = text.lower()\n",
    "    # Remove all characters except letters (including accented), digits, and spaces to standardize input for tokenization.\n",
    "    text = re.sub(r'[^a-zà-ÿ0-9\\s]', '', text)\n",
    "    # Replace multiple consecutive spaces with a single space and trim edges to avoid artificial token inflation.\n",
    "    text = re.sub(r'\\s+', ' ', text).strip()\n",
    "    return text"
   ]
  },
  {
   "cell_type": "code",
   "execution_count": 7,
   "id": "e62e7994",
   "metadata": {},
   "outputs": [],
   "source": [
    "df['clean_text'] = df['text'].apply(clean_text)"
   ]
  },
  {
   "cell_type": "markdown",
   "id": "c5213cc2",
   "metadata": {},
   "source": [
    "### Analyze the Effect of Text Cleaning\n",
    "\n",
    "Compare average and median lengths of original and cleaned texts to understand the impact of preprocessing.\n"
   ]
  },
  {
   "cell_type": "code",
   "execution_count": 8,
   "id": "b71f9cf6",
   "metadata": {},
   "outputs": [
    {
     "name": "stdout",
     "output_type": "stream",
     "text": [
      "Average cleaned text length (characters): 96.20189515794519\n",
      "Median cleaned text length (characters): 92.0\n",
      "Average cleaned text length (words): 14.565832772590264\n",
      "Median cleaned text length (words): 14.0\n"
     ]
    }
   ],
   "source": [
    "# Recalculate character and word lengths after cleaning to check if cleaning significantly shortens the text or changes its structure.\n",
    "df['clean_len_chars'] = df['clean_text'].str.len()\n",
    "df['clean_len_words'] = df['clean_text'].str.split().apply(len)\n",
    "\n",
    "# Print updated statistics to support decisions about input sequence length for the model.\n",
    "print(\"Average cleaned text length (characters):\", df['clean_len_chars'].mean())\n",
    "print(\"Median cleaned text length (characters):\", df['clean_len_chars'].median())\n",
    "print(\"Average cleaned text length (words):\", df['clean_len_words'].mean())\n",
    "print(\"Median cleaned text length (words):\", df['clean_len_words'].median())"
   ]
  },
  {
   "cell_type": "markdown",
   "id": "980f1d2c",
   "metadata": {},
   "source": [
    "### Conclusion\n",
    "\n",
    "No significant changes in text length after cleaning.\n"
   ]
  },
  {
   "cell_type": "markdown",
   "id": "37ba5c1d",
   "metadata": {},
   "source": [
    "## 3. Train/Validation Split\n",
    "\n",
    "We perform a stratified split to preserve class proportions in both the training and validation sets, which helps mitigate class imbalance during model training and evaluation.\n"
   ]
  },
  {
   "cell_type": "code",
   "execution_count": 9,
   "id": "7dfdc925",
   "metadata": {},
   "outputs": [
    {
     "name": "stdout",
     "output_type": "stream",
     "text": [
      "Training samples: 173579\n",
      "Validation samples: 43395\n"
     ]
    }
   ],
   "source": [
    "train_df, val_df = train_test_split(\n",
    "    df, \n",
    "    test_size=0.2, \n",
    "    stratify=df['class'], \n",
    "    random_state=2025\n",
    ")\n",
    "\n",
    "# Rename target column to 'labels' for Trainer compatibility\n",
    "train_df = train_df.rename(columns={\"class\": \"labels\"})\n",
    "val_df   = val_df.rename(columns={\"class\": \"labels\"})\n",
    "\n",
    "print(\"Training samples:\", len(train_df))\n",
    "print(\"Validation samples:\", len(val_df))"
   ]
  },
  {
   "cell_type": "markdown",
   "id": "6efabcd7",
   "metadata": {},
   "source": [
    "## 4. Tokenization and Preparation for Training\n",
    "\n",
    "- Select a BERT model en catalan\n",
    "- Load the tokenizer using AutoTokenizer.\n",
    "- Tokenize the texts and prepare PyTorch datasets for the Trainer.\n"
   ]
  },
  {
   "cell_type": "code",
   "execution_count": 10,
   "id": "ff4e61da",
   "metadata": {},
   "outputs": [
    {
     "data": {
      "application/vnd.jupyter.widget-view+json": {
       "model_id": "4fc8f35e13d44f5596b162cf1181d5b6",
       "version_major": 2,
       "version_minor": 0
      },
      "text/plain": [
       "Map:   0%|          | 0/173579 [00:00<?, ? examples/s]"
      ]
     },
     "metadata": {},
     "output_type": "display_data"
    },
    {
     "data": {
      "application/vnd.jupyter.widget-view+json": {
       "model_id": "aa70f443704942499946557208342f06",
       "version_major": 2,
       "version_minor": 0
      },
      "text/plain": [
       "Map:   0%|          | 0/43395 [00:00<?, ? examples/s]"
      ]
     },
     "metadata": {},
     "output_type": "display_data"
    }
   ],
   "source": [
    "model_checkpoint = \"PlanTL-GOB-ES/roberta-base-ca\"\n",
    "\n",
    "# Load the pretrained BERT tokenizer to convert texts into input IDs and attention masks.\n",
    "tokenizer = AutoTokenizer.from_pretrained(model_checkpoint)\n",
    "\n",
    "max_length = 64  # Cover occasional longer texts and better leverage available GPU memory\n",
    "\n",
    "def tokenize_batch(batch):\n",
    "    # Tokenize texts, truncating or padding to a fixed max_length for batch processing.\n",
    "    return tokenizer(\n",
    "        batch[\"clean_text\"], \n",
    "        padding=\"max_length\", \n",
    "        truncation=True, \n",
    "        max_length=max_length\n",
    "    )\n",
    "\n",
    "# Prepare data for HuggingFace Trainer by converting DataFrame to Dataset.\n",
    "train_dataset = Dataset.from_pandas(train_df)\n",
    "val_dataset = Dataset.from_pandas(val_df)\n",
    "\n",
    "# Apply tokenization to the datasets.\n",
    "train_dataset = train_dataset.map(tokenize_batch, batched=True)\n",
    "val_dataset = val_dataset.map(tokenize_batch, batched=True)\n"
   ]
  },
  {
   "cell_type": "markdown",
   "id": "6698e84c",
   "metadata": {},
   "source": [
    "## 5. Model Building and Training\n",
    "\n",
    "- Load the RoBERTa-base Catalan model (`PlanTL-GOB-ES/roberta-base-ca`) for sequence classification (21 output classes).\n",
    "- Define training parameters with TrainingArguments.\n",
    "- Train the model using Huggingface Trainer.\n",
    "- Save the best model checkpoint based on validation accuracy.\n"
   ]
  },
  {
   "cell_type": "code",
   "execution_count": 11,
   "id": "e29a2d70",
   "metadata": {},
   "outputs": [
    {
     "name": "stderr",
     "output_type": "stream",
     "text": [
      "Some weights of RobertaForSequenceClassification were not initialized from the model checkpoint at PlanTL-GOB-ES/roberta-base-ca and are newly initialized: ['classifier.dense.bias', 'classifier.dense.weight', 'classifier.out_proj.bias', 'classifier.out_proj.weight']\n",
      "You should probably TRAIN this model on a down-stream task to be able to use it for predictions and inference.\n"
     ]
    }
   ],
   "source": [
    "# Use the Catalan RoBERTa-base model for sequence classification\n",
    "model_checkpoint = \"PlanTL-GOB-ES/roberta-base-ca\"\n",
    "\n",
    "tokenizer = AutoTokenizer.from_pretrained(model_checkpoint)\n",
    "model = AutoModelForSequenceClassification.from_pretrained(model_checkpoint, num_labels=21)\n",
    "\n",
    "training_args = TrainingArguments(\n",
    "    output_dir='./roberta-ca-results-strats',\n",
    "\n",
    "    eval_strategy=\"epoch\", \n",
    "    save_strategy=\"epoch\",    \n",
    "\n",
    "    save_total_limit=1,\n",
    "\n",
    "    per_device_train_batch_size=64,\n",
    "    per_device_eval_batch_size=128,\n",
    "    num_train_epochs=3,\n",
    "\n",
    "    learning_rate=4e-5,\n",
    "    warmup_steps=500,\n",
    "\n",
    "    load_best_model_at_end=True,\n",
    "    metric_for_best_model='accuracy',\n",
    "    greater_is_better=True,\n",
    "\n",
    "    logging_dir='./logs',\n",
    "    logging_steps=100,\n",
    "    report_to=\"tensorboard\",\n",
    "\n",
    "    seed=42,\n",
    "    fp16=True,\n",
    "    max_grad_norm=1.0\n",
    ")\n",
    "\n",
    "\n"
   ]
  },
  {
   "cell_type": "code",
   "execution_count": 12,
   "id": "0566d1d9",
   "metadata": {},
   "outputs": [
    {
     "data": {
      "text/html": [
       "\n",
       "    <div>\n",
       "      \n",
       "      <progress value='8139' max='8139' style='width:300px; height:20px; vertical-align: middle;'></progress>\n",
       "      [8139/8139 29:06, Epoch 3/3]\n",
       "    </div>\n",
       "    <table border=\"1\" class=\"dataframe\">\n",
       "  <thead>\n",
       " <tr style=\"text-align: left;\">\n",
       "      <th>Epoch</th>\n",
       "      <th>Training Loss</th>\n",
       "      <th>Validation Loss</th>\n",
       "      <th>Accuracy</th>\n",
       "      <th>F1 Macro</th>\n",
       "      <th>Precision Macro</th>\n",
       "      <th>Recall Macro</th>\n",
       "    </tr>\n",
       "  </thead>\n",
       "  <tbody>\n",
       "    <tr>\n",
       "      <td>1</td>\n",
       "      <td>0.142300</td>\n",
       "      <td>0.136640</td>\n",
       "      <td>0.963590</td>\n",
       "      <td>0.952347</td>\n",
       "      <td>0.954745</td>\n",
       "      <td>0.951039</td>\n",
       "    </tr>\n",
       "    <tr>\n",
       "      <td>2</td>\n",
       "      <td>0.101800</td>\n",
       "      <td>0.114322</td>\n",
       "      <td>0.968199</td>\n",
       "      <td>0.959913</td>\n",
       "      <td>0.961267</td>\n",
       "      <td>0.958736</td>\n",
       "    </tr>\n",
       "    <tr>\n",
       "      <td>3</td>\n",
       "      <td>0.074900</td>\n",
       "      <td>0.111748</td>\n",
       "      <td>0.969167</td>\n",
       "      <td>0.961031</td>\n",
       "      <td>0.961508</td>\n",
       "      <td>0.960662</td>\n",
       "    </tr>\n",
       "  </tbody>\n",
       "</table><p>"
      ],
      "text/plain": [
       "<IPython.core.display.HTML object>"
      ]
     },
     "metadata": {},
     "output_type": "display_data"
    },
    {
     "data": {
      "text/html": [],
      "text/plain": [
       "<IPython.core.display.HTML object>"
      ]
     },
     "metadata": {},
     "output_type": "display_data"
    },
    {
     "name": "stdout",
     "output_type": "stream",
     "text": [
      "Classification Report:\n",
      "              precision    recall  f1-score   support\n",
      "\n",
      "           0       0.97      0.98      0.98      7924\n",
      "           1       0.99      1.00      0.99       387\n",
      "           2       0.99      0.99      0.99      2655\n",
      "           3       0.96      0.95      0.96      2286\n",
      "           4       0.86      0.84      0.85       717\n",
      "           5       0.96      0.97      0.96       168\n",
      "           6       0.99      0.99      0.99      2330\n",
      "           7       0.95      0.97      0.96       200\n",
      "           8       0.98      0.96      0.97      1528\n",
      "           9       0.94      0.98      0.96      2376\n",
      "          10       1.00      1.00      1.00      1660\n",
      "          11       0.99      0.99      0.99       134\n",
      "          12       0.99      0.99      0.99      5995\n",
      "          13       0.99      0.99      0.99       852\n",
      "          14       0.97      0.97      0.97      3484\n",
      "          15       0.98      0.99      0.98      3481\n",
      "          16       0.97      0.95      0.96       885\n",
      "          17       0.94      0.92      0.93      3239\n",
      "          18       0.93      0.91      0.92       946\n",
      "          19       0.91      0.89      0.90      1740\n",
      "          20       0.93      0.93      0.93       408\n",
      "\n",
      "    accuracy                           0.97     43395\n",
      "   macro avg       0.96      0.96      0.96     43395\n",
      "weighted avg       0.97      0.97      0.97     43395\n",
      "\n",
      "Confusion Matrix:\n",
      "[[7786    0    3    6   39    0    1    0    3    3    0    0    1    0\n",
      "     7    2    2   49   10   10    2]\n",
      " [   0  386    0    0    0    0    0    0    0    0    0    0    0    0\n",
      "     0    0    0    0    0    1    0]\n",
      " [   0    0 2630   17    0    0    0    0    0    1    0    0    1    1\n",
      "     0    1    0    1    0    3    0]\n",
      " [   4    1   13 2180    2    1    0    0    0    9    0    0   10    0\n",
      "     1   18    9    5    0   30    3]\n",
      " [  58    0    0    1  604    0    0    0    0    3    0    0    0    0\n",
      "     1    5    0   14   19   10    2]\n",
      " [   0    0    0    0    0  163    3    0    0    0    0    0    0    0\n",
      "     0    1    0    0    0    1    0]\n",
      " [   1    0    0    0    0    3 2308    8    4    0    0    0    1    0\n",
      "     0    4    0    0    0    1    0]\n",
      " [   0    0    0    0    0    0    5  194    1    0    0    0    0    0\n",
      "     0    0    0    0    0    0    0]\n",
      " [   0    0    0    0    1    0    4    3 1474   41    0    0    1    0\n",
      "     0    0    0    0    0    4    0]\n",
      " [   2    0    0    7    2    0    1    0   19 2318    0    0    7    1\n",
      "     0    3    1    5    0    7    3]\n",
      " [   0    0    0    0    0    0    0    0    0    2 1657    0    0    0\n",
      "     0    0    0    0    0    1    0]\n",
      " [   0    0    0    0    0    0    0    0    0    1    0  133    0    0\n",
      "     0    0    0    0    0    0    0]\n",
      " [   0    0    4    6    1    3    0    0    4   25    0    0 5941    0\n",
      "     0    7    1    0    0    2    1]\n",
      " [   0    0    1    0    0    0    0    0    0    1    0    0    0  846\n",
      "     2    0    0    0    0    2    0]\n",
      " [   8    0    0    0    1    0    0    0    0    0    0    0    0    5\n",
      "  3393    7    0   29    5   35    1]\n",
      " [   4    0    1   16    2    0    4    0    1    7    0    0    2    0\n",
      "     2 3436    0    1    0    5    0]\n",
      " [   6    0    0    6    8    0    0    0    0    0    0    0    1    0\n",
      "     0    0  838   24    1    1    0]\n",
      " [ 123    0    0    3    6    0    0    0    1   12    0    0    2    0\n",
      "    44    0   15 2980   24   28    1]\n",
      " [   5    0    0    4   19    0    0    0    0    0    0    0    0    0\n",
      "     5    0    1   38  865    9    0]\n",
      " [  12    2    2   22   13    0    2    0    2   45    0    1    5    1\n",
      "    31   17    0   19    6 1545   15]\n",
      " [   0    0    1   10    3    0    0    0    0    4    0    0    0    0\n",
      "     0    0    1    0    2    7  380]]\n"
     ]
    }
   ],
   "source": [
    "def compute_metrics(eval_pred):\n",
    "    logits, labels = eval_pred\n",
    "    preds = np.argmax(logits, axis=-1)\n",
    "    \n",
    "    accuracy = accuracy_score(labels, preds)\n",
    "    f1_macro = f1_score(labels, preds, average='macro')       # Average F1 score across classes\n",
    "    precision_macro = precision_score(labels, preds, average='macro')  # Average precision across classes\n",
    "    recall_macro = recall_score(labels, preds, average='macro')        # Average recall across classes\n",
    "    \n",
    "    return {\n",
    "        \"accuracy\": accuracy,\n",
    "        \"f1_macro\": f1_macro,\n",
    "        \"precision_macro\": precision_macro,\n",
    "        \"recall_macro\": recall_macro\n",
    "    }\n",
    "\n",
    "trainer = Trainer(\n",
    "    model=model,\n",
    "    args=training_args,\n",
    "    train_dataset=train_dataset,\n",
    "    eval_dataset=val_dataset,\n",
    "    compute_metrics=compute_metrics\n",
    ")\n",
    "\n",
    "trainer.train()\n",
    "trainer.save_model(\"./best_roberta_ca_model_strats\")\n",
    "\n",
    "# After training, get predictions on validation set for detailed analysis\n",
    "predictions = trainer.predict(val_dataset)\n",
    "preds = np.argmax(predictions.predictions, axis=-1)\n",
    "labels = predictions.label_ids\n",
    "\n",
    "print(\"Classification Report:\")\n",
    "print(classification_report(labels, preds))\n",
    "\n",
    "print(\"Confusion Matrix:\")\n",
    "print(confusion_matrix(labels, preds))\n",
    "\n"
   ]
  },
  {
   "cell_type": "markdown",
   "id": "7e67a506",
   "metadata": {},
   "source": [
    "## 6. Temporal Split: Training on Early Years and Testing on Recent Years\n",
    "\n",
    "Based on the distribution of samples across years, we observe that the majority of data is concentrated between 2013 and 2017, with a decreasing number of samples in later years (2018–2020). To better simulate real-world model performance and evaluate its generalization to new data, we split the dataset temporally:\n",
    "\n",
    "- **Training set:** samples from years 2013 to 2017 (inclusive).  \n",
    "- **Test set:** samples from years 2018 onwards.\n",
    "\n",
    "This approach allows us to train the model on historical data and evaluate accuracy on more recent, potentially shifted data distributions."
   ]
  },
  {
   "cell_type": "code",
   "execution_count": 13,
   "id": "390f03b7",
   "metadata": {},
   "outputs": [
    {
     "name": "stdout",
     "output_type": "stream",
     "text": [
      "Training samples: 149173\n",
      "Validation samples: 67801\n"
     ]
    }
   ],
   "source": [
    "train_years = list(range(2013, 2018))\n",
    "train_df = df[df['year'].isin(train_years)].copy()\n",
    "val_df = df[~df['year'].isin(train_years)].copy()\n",
    "\n",
    "# Rename target column to 'labels' for Trainer compatibility\n",
    "train_df = train_df.rename(columns={\"class\": \"labels\"})\n",
    "val_df   = val_df.rename(columns={\"class\": \"labels\"})\n",
    "\n",
    "print(\"Training samples:\", len(train_df))\n",
    "print(\"Validation samples:\", len(val_df))"
   ]
  },
  {
   "cell_type": "markdown",
   "id": "ec61372f",
   "metadata": {},
   "source": [
    "## 7. Tokenization and Preparation for Training for another step\n",
    "\n",
    "- Select a BERT model en catalan\n",
    "- Load the tokenizer using AutoTokenizer.\n",
    "- Tokenize the texts and prepare PyTorch datasets for the Trainer."
   ]
  },
  {
   "cell_type": "code",
   "execution_count": 14,
   "id": "23cf6500",
   "metadata": {},
   "outputs": [
    {
     "data": {
      "application/vnd.jupyter.widget-view+json": {
       "model_id": "d422d90258754955843f93b73fbec092",
       "version_major": 2,
       "version_minor": 0
      },
      "text/plain": [
       "Map:   0%|          | 0/149173 [00:00<?, ? examples/s]"
      ]
     },
     "metadata": {},
     "output_type": "display_data"
    },
    {
     "data": {
      "application/vnd.jupyter.widget-view+json": {
       "model_id": "29aced2d46a5426ab658596a0d11ef16",
       "version_major": 2,
       "version_minor": 0
      },
      "text/plain": [
       "Map:   0%|          | 0/67801 [00:00<?, ? examples/s]"
      ]
     },
     "metadata": {},
     "output_type": "display_data"
    }
   ],
   "source": [
    "model_checkpoint = \"PlanTL-GOB-ES/roberta-base-ca\"\n",
    "\n",
    "# Load the pretrained BERT tokenizer to convert texts into input IDs and attention masks.\n",
    "tokenizer = AutoTokenizer.from_pretrained(model_checkpoint)\n",
    "\n",
    "max_length = 64  # Cover occasional longer texts and better leverage available GPU memory\n",
    "\n",
    "def tokenize_batch(batch):\n",
    "    # Tokenize texts, truncating or padding to a fixed max_length for batch processing.\n",
    "    return tokenizer(\n",
    "        batch[\"clean_text\"], \n",
    "        padding=\"max_length\", \n",
    "        truncation=True, \n",
    "        max_length=max_length\n",
    "    )\n",
    "\n",
    "# Prepare data for HuggingFace Trainer by converting DataFrame to Dataset.\n",
    "train_dataset = Dataset.from_pandas(train_df)\n",
    "val_dataset = Dataset.from_pandas(val_df)\n",
    "\n",
    "# Apply tokenization to the datasets.\n",
    "train_dataset = train_dataset.map(tokenize_batch, batched=True)\n",
    "val_dataset = val_dataset.map(tokenize_batch, batched=True)\n"
   ]
  },
  {
   "cell_type": "markdown",
   "id": "60cc8807",
   "metadata": {},
   "source": [
    "## 8. Model Building and Training\n",
    "\n",
    "- Load the RoBERTa-base Catalan model (`PlanTL-GOB-ES/roberta-base-ca`) for sequence classification (21 output classes).\n",
    "- Define training parameters with TrainingArguments.\n",
    "- Train the model using Huggingface Trainer.\n",
    "- Save the best model checkpoint based on validation accuracy."
   ]
  },
  {
   "cell_type": "code",
   "execution_count": 15,
   "id": "debba4be",
   "metadata": {},
   "outputs": [
    {
     "name": "stderr",
     "output_type": "stream",
     "text": [
      "Some weights of RobertaForSequenceClassification were not initialized from the model checkpoint at PlanTL-GOB-ES/roberta-base-ca and are newly initialized: ['classifier.dense.bias', 'classifier.dense.weight', 'classifier.out_proj.bias', 'classifier.out_proj.weight']\n",
      "You should probably TRAIN this model on a down-stream task to be able to use it for predictions and inference.\n"
     ]
    }
   ],
   "source": [
    "# Use the Catalan RoBERTa-base model for sequence classification\n",
    "model_checkpoint = \"PlanTL-GOB-ES/roberta-base-ca\"\n",
    "\n",
    "tokenizer = AutoTokenizer.from_pretrained(model_checkpoint)\n",
    "model = AutoModelForSequenceClassification.from_pretrained(model_checkpoint, num_labels=21)\n",
    "\n",
    "training_args = TrainingArguments(\n",
    "    output_dir='./roberta-ca-results-years',\n",
    "\n",
    "    eval_strategy=\"epoch\", \n",
    "    save_strategy=\"epoch\",    \n",
    "\n",
    "    save_total_limit=1,\n",
    "\n",
    "    per_device_train_batch_size=64,\n",
    "    per_device_eval_batch_size=128,\n",
    "    num_train_epochs=3,\n",
    "\n",
    "    learning_rate=4e-5,\n",
    "    warmup_steps=500,\n",
    "\n",
    "    load_best_model_at_end=True,\n",
    "    metric_for_best_model='accuracy',\n",
    "    greater_is_better=True,\n",
    "\n",
    "    logging_dir='./logs',\n",
    "    logging_steps=100,\n",
    "    report_to=\"tensorboard\",\n",
    "\n",
    "    seed=42,\n",
    "    fp16=True,\n",
    "    max_grad_norm=1.0\n",
    ")\n",
    "\n",
    "\n"
   ]
  },
  {
   "cell_type": "code",
   "execution_count": 16,
   "id": "e7c97390",
   "metadata": {},
   "outputs": [
    {
     "data": {
      "text/html": [
       "\n",
       "    <div>\n",
       "      \n",
       "      <progress value='6993' max='6993' style='width:300px; height:20px; vertical-align: middle;'></progress>\n",
       "      [6993/6993 25:26, Epoch 3/3]\n",
       "    </div>\n",
       "    <table border=\"1\" class=\"dataframe\">\n",
       "  <thead>\n",
       " <tr style=\"text-align: left;\">\n",
       "      <th>Epoch</th>\n",
       "      <th>Training Loss</th>\n",
       "      <th>Validation Loss</th>\n",
       "      <th>Accuracy</th>\n",
       "      <th>F1 Macro</th>\n",
       "      <th>Precision Macro</th>\n",
       "      <th>Recall Macro</th>\n",
       "    </tr>\n",
       "  </thead>\n",
       "  <tbody>\n",
       "    <tr>\n",
       "      <td>1</td>\n",
       "      <td>0.131500</td>\n",
       "      <td>0.176212</td>\n",
       "      <td>0.954204</td>\n",
       "      <td>0.922537</td>\n",
       "      <td>0.923890</td>\n",
       "      <td>0.926687</td>\n",
       "    </tr>\n",
       "    <tr>\n",
       "      <td>2</td>\n",
       "      <td>0.091800</td>\n",
       "      <td>0.168681</td>\n",
       "      <td>0.958363</td>\n",
       "      <td>0.929254</td>\n",
       "      <td>0.929727</td>\n",
       "      <td>0.931674</td>\n",
       "    </tr>\n",
       "    <tr>\n",
       "      <td>3</td>\n",
       "      <td>0.071700</td>\n",
       "      <td>0.178263</td>\n",
       "      <td>0.957464</td>\n",
       "      <td>0.927417</td>\n",
       "      <td>0.930587</td>\n",
       "      <td>0.927157</td>\n",
       "    </tr>\n",
       "  </tbody>\n",
       "</table><p>"
      ],
      "text/plain": [
       "<IPython.core.display.HTML object>"
      ]
     },
     "metadata": {},
     "output_type": "display_data"
    },
    {
     "data": {
      "text/html": [],
      "text/plain": [
       "<IPython.core.display.HTML object>"
      ]
     },
     "metadata": {},
     "output_type": "display_data"
    },
    {
     "name": "stdout",
     "output_type": "stream",
     "text": [
      "Classification Report:\n",
      "              precision    recall  f1-score   support\n",
      "\n",
      "           0       0.95      0.98      0.96     10657\n",
      "           1       0.99      0.99      0.99       657\n",
      "           2       0.97      0.98      0.98      4466\n",
      "           3       0.94      0.91      0.93      4034\n",
      "           4       0.91      0.68      0.78      1372\n",
      "           5       0.98      0.96      0.97       547\n",
      "           6       0.99      0.99      0.99      6376\n",
      "           7       0.96      0.96      0.96       489\n",
      "           8       0.97      0.96      0.96      3348\n",
      "           9       0.95      0.94      0.94      5104\n",
      "          10       0.99      0.98      0.99       395\n",
      "          11       0.98      1.00      0.99       239\n",
      "          12       0.99      0.99      0.99     12251\n",
      "          13       0.99      0.98      0.99      2209\n",
      "          14       0.77      0.86      0.82       327\n",
      "          15       0.98      0.99      0.98      8455\n",
      "          16       0.92      0.96      0.94      1503\n",
      "          17       0.88      0.87      0.87      2852\n",
      "          18       0.72      0.90      0.80       647\n",
      "          19       0.82      0.80      0.81      1458\n",
      "          20       0.86      0.89      0.87       415\n",
      "\n",
      "    accuracy                           0.96     67801\n",
      "   macro avg       0.93      0.93      0.93     67801\n",
      "weighted avg       0.96      0.96      0.96     67801\n",
      "\n",
      "Confusion Matrix:\n",
      "[[10399     0     2    15    16     0     0     0     2     5     0     0\n",
      "      4     0     8     7    21   160     3    15     0]\n",
      " [    0   650     0     0     0     0     0     0     0     3     0     0\n",
      "      2     0     0     0     0     0     0     1     1]\n",
      " [    4     0  4395    46     0     0     0     0     0     2     0     0\n",
      "      6     3     3     3     0     0     0     3     1]\n",
      " [   24     1    59  3686    11     0     2     0     0    19     0     1\n",
      "     41     0     6    41    51    13     3    72     4]\n",
      " [  172     0     8     2   929     0     0     0     0     2     0     1\n",
      "      0     0     3    45     5    19   163    21     2]\n",
      " [    0     0     0     4     0   526    12     0     0     1     0     0\n",
      "      3     0     0     0     1     0     0     0     0]\n",
      " [    0     0     3     1     0     8  6318    13    13     3     0     0\n",
      "      6     0     0    10     0     0     0     1     0]\n",
      " [    0     0     0     0     0     0    21   467     0     1     0     0\n",
      "      0     0     0     0     0     0     0     0     0]\n",
      " [    7     0     0     0     1     0    30     3  3221    77     0     0\n",
      "      7     0     0     1     0     0     0     0     1]\n",
      " [    8     1     2    26     9     0     0     0    90  4797     0     2\n",
      "     32     3     2    14     2    18     0    67    31]\n",
      " [    0     0     0     0     0     0     0     0     0     0   389     0\n",
      "      0     2     0     0     0     0     0     4     0]\n",
      " [    0     0     0     1     0     0     0     0     0     0     0   238\n",
      "      0     0     0     0     0     0     0     0     0]\n",
      " [    5     3     6    25     0     5     0     0     4    47     0     0\n",
      "  12141     0     0     6     2     0     0     4     3]\n",
      " [    0     0    17     0     0     0     0     0     0     0     1     0\n",
      "      0  2174    15     0     0     0     0     2     0]\n",
      " [   11     0     0     0     3     0     0     0     0     0     0     0\n",
      "      1     9   282     0     0     8     2    11     0]\n",
      " [   17     0     1    38     6     0     6     3     0    20     0     0\n",
      "     14     0     2  8336     0     0     0    12     0]\n",
      " [    7     0     1     4     2     0     0     0     0     2     0     0\n",
      "      1     0     0     0  1442    37     0     7     0]\n",
      " [  224     0     3    20    23     0     0     0     0    11     0     1\n",
      "      3     0    17     0    35  2474    29    10     2]\n",
      " [    1     0     1     1     5     0     0     0     0     0     0     0\n",
      "      0     0     4     0     1    52   580     2     0]\n",
      " [   29     1    11    54    12     0     8     1     2    63     2     0\n",
      "      9     3    22    10     7    22    21  1165    16]\n",
      " [    9     0     0     9     1     0     0     0     0     5     0     0\n",
      "      2     0     0     0     0     3     0    17   369]]\n"
     ]
    }
   ],
   "source": [
    "def compute_metrics(eval_pred):\n",
    "    logits, labels = eval_pred\n",
    "    preds = np.argmax(logits, axis=-1)\n",
    "    \n",
    "    accuracy = accuracy_score(labels, preds)\n",
    "    f1_macro = f1_score(labels, preds, average='macro')       # Average F1 score across classes\n",
    "    precision_macro = precision_score(labels, preds, average='macro')  # Average precision across classes\n",
    "    recall_macro = recall_score(labels, preds, average='macro')        # Average recall across classes\n",
    "    \n",
    "    return {\n",
    "        \"accuracy\": accuracy,\n",
    "        \"f1_macro\": f1_macro,\n",
    "        \"precision_macro\": precision_macro,\n",
    "        \"recall_macro\": recall_macro\n",
    "    }\n",
    "\n",
    "trainer = Trainer(\n",
    "    model=model,\n",
    "    args=training_args,\n",
    "    train_dataset=train_dataset,\n",
    "    eval_dataset=val_dataset,\n",
    "    compute_metrics=compute_metrics\n",
    ")\n",
    "\n",
    "trainer.train()\n",
    "trainer.save_model(\"./best_roberta_ca_model_years\")\n",
    "\n",
    "# After training, get predictions on validation set for detailed analysis\n",
    "predictions = trainer.predict(val_dataset)\n",
    "preds = np.argmax(predictions.predictions, axis=-1)\n",
    "labels = predictions.label_ids\n",
    "\n",
    "print(\"Classification Report:\")\n",
    "print(classification_report(labels, preds))\n",
    "\n",
    "print(\"Confusion Matrix:\")\n",
    "print(confusion_matrix(labels, preds))\n",
    "\n"
   ]
  }
 ],
 "metadata": {
  "kernelspec": {
   "display_name": "neuro",
   "language": "python",
   "name": "python3"
  },
  "language_info": {
   "codemirror_mode": {
    "name": "ipython",
    "version": 3
   },
   "file_extension": ".py",
   "mimetype": "text/x-python",
   "name": "python",
   "nbconvert_exporter": "python",
   "pygments_lexer": "ipython3",
   "version": "3.10.18"
  }
 },
 "nbformat": 4,
 "nbformat_minor": 5
}
