{
 "cells": [
  {
   "cell_type": "code",
   "execution_count": 1,
   "id": "f2b53792",
   "metadata": {},
   "outputs": [],
   "source": [
    "import pandas as pd\n",
    "import numpy as np\n",
    "import matplotlib.pyplot as plt\n",
    "import seaborn as sns\n",
    "\n",
    "from sklearn.model_selection import train_test_split\n",
    "from sklearn.metrics import classification_report, confusion_matrix, accuracy_score\n",
    "\n",
    "import os\n",
    "os.environ[\"CUDA_LAUNCH_BLOCKING\"] = \"1\"   # Force CUDA to be synchronous\n",
    "\n",
    "import torch\n",
    "from transformers import AutoTokenizer, AutoModelForSequenceClassification, Trainer, TrainingArguments\n",
    "\n",
    "from tqdm.notebook import tqdm\n",
    "import re\n",
    "from datasets import Dataset, DatasetDict"
   ]
  },
  {
   "cell_type": "markdown",
   "id": "eb809c33",
   "metadata": {},
   "source": [
    "## 1. Data Loading and Initial Exploration\n",
    "\n",
    "In this section, we load the training dataset and perform an initial exploratory analysis:  \n",
    "- Check the shape and structure of the data  \n",
    "- View several sample rows  \n",
    "- Visualize class and year distributions  \n",
    "- Calculate the average and median length of texts\n"
   ]
  },
  {
   "cell_type": "code",
   "execution_count": 2,
   "id": "78aeda4a",
   "metadata": {},
   "outputs": [],
   "source": [
    "DATASET = pd.read_csv(\"train.csv\")"
   ]
  },
  {
   "cell_type": "code",
   "execution_count": 3,
   "id": "361a4c89",
   "metadata": {},
   "outputs": [
    {
     "name": "stdout",
     "output_type": "stream",
     "text": [
      "Number of samples: 216974\n",
      "Columns: ['id', 'text', 'class', 'year']\n",
      "Number of unique classes: 21\n",
      "Years in the dataset: [np.int64(2013), np.int64(2014), np.int64(2015), np.int64(2016), np.int64(2017), np.int64(2018), np.int64(2019), np.int64(2020)]\n"
     ]
    },
    {
     "data": {
      "text/html": [
       "<div>\n",
       "<style scoped>\n",
       "    .dataframe tbody tr th:only-of-type {\n",
       "        vertical-align: middle;\n",
       "    }\n",
       "\n",
       "    .dataframe tbody tr th {\n",
       "        vertical-align: top;\n",
       "    }\n",
       "\n",
       "    .dataframe thead th {\n",
       "        text-align: right;\n",
       "    }\n",
       "</style>\n",
       "<table border=\"1\" class=\"dataframe\">\n",
       "  <thead>\n",
       "    <tr style=\"text-align: right;\">\n",
       "      <th></th>\n",
       "      <th>id</th>\n",
       "      <th>text</th>\n",
       "      <th>class</th>\n",
       "      <th>year</th>\n",
       "    </tr>\n",
       "  </thead>\n",
       "  <tbody>\n",
       "    <tr>\n",
       "      <th>59626</th>\n",
       "      <td>59626</td>\n",
       "      <td>Aprovació inicial del pressupost per a l'exerc...</td>\n",
       "      <td>12</td>\n",
       "      <td>2014</td>\n",
       "    </tr>\n",
       "    <tr>\n",
       "      <th>197165</th>\n",
       "      <td>197165</td>\n",
       "      <td>Aprovació definitiva de dos projectes (1832/17...</td>\n",
       "      <td>0</td>\n",
       "      <td>2020</td>\n",
       "    </tr>\n",
       "    <tr>\n",
       "      <th>153826</th>\n",
       "      <td>153826</td>\n",
       "      <td>Delegació de la signatura del secretari genera...</td>\n",
       "      <td>9</td>\n",
       "      <td>2018</td>\n",
       "    </tr>\n",
       "    <tr>\n",
       "      <th>153059</th>\n",
       "      <td>153059</td>\n",
       "      <td>Conveni col·lectiu de treball de l'empresa Ren...</td>\n",
       "      <td>1</td>\n",
       "      <td>2018</td>\n",
       "    </tr>\n",
       "    <tr>\n",
       "      <th>184410</th>\n",
       "      <td>184410</td>\n",
       "      <td>Aprovació definitiva del Codi de conducta dels...</td>\n",
       "      <td>3</td>\n",
       "      <td>2019</td>\n",
       "    </tr>\n",
       "    <tr>\n",
       "      <th>93735</th>\n",
       "      <td>93735</td>\n",
       "      <td>Aprovació inicial del canvi de sistema de gest...</td>\n",
       "      <td>19</td>\n",
       "      <td>2015</td>\n",
       "    </tr>\n",
       "    <tr>\n",
       "      <th>121863</th>\n",
       "      <td>121863</td>\n",
       "      <td>Resolució d'audiència prèvia a l'ordre d'execu...</td>\n",
       "      <td>17</td>\n",
       "      <td>2016</td>\n",
       "    </tr>\n",
       "    <tr>\n",
       "      <th>5606</th>\n",
       "      <td>5606</td>\n",
       "      <td>Licitació del servei de connexió a Internet a ...</td>\n",
       "      <td>0</td>\n",
       "      <td>2013</td>\n",
       "    </tr>\n",
       "    <tr>\n",
       "      <th>20865</th>\n",
       "      <td>20865</td>\n",
       "      <td>Aprovació definitiva de la modificació de la p...</td>\n",
       "      <td>12</td>\n",
       "      <td>2013</td>\n",
       "    </tr>\n",
       "    <tr>\n",
       "      <th>51026</th>\n",
       "      <td>51026</td>\n",
       "      <td>Oferta pública d'ocupació per a l'any 2014.</td>\n",
       "      <td>5</td>\n",
       "      <td>2014</td>\n",
       "    </tr>\n",
       "  </tbody>\n",
       "</table>\n",
       "</div>"
      ],
      "text/plain": [
       "            id                                               text  class  year\n",
       "59626    59626  Aprovació inicial del pressupost per a l'exerc...     12  2014\n",
       "197165  197165  Aprovació definitiva de dos projectes (1832/17...      0  2020\n",
       "153826  153826  Delegació de la signatura del secretari genera...      9  2018\n",
       "153059  153059  Conveni col·lectiu de treball de l'empresa Ren...      1  2018\n",
       "184410  184410  Aprovació definitiva del Codi de conducta dels...      3  2019\n",
       "93735    93735  Aprovació inicial del canvi de sistema de gest...     19  2015\n",
       "121863  121863  Resolució d'audiència prèvia a l'ordre d'execu...     17  2016\n",
       "5606      5606  Licitació del servei de connexió a Internet a ...      0  2013\n",
       "20865    20865  Aprovació definitiva de la modificació de la p...     12  2013\n",
       "51026    51026        Oferta pública d'ocupació per a l'any 2014.      5  2014"
      ]
     },
     "metadata": {},
     "output_type": "display_data"
    }
   ],
   "source": [
    "df = DATASET\n",
    "\n",
    "print(\"Number of samples:\", len(df))\n",
    "print(\"Columns:\", df.columns.tolist())\n",
    "print(\"Number of unique classes:\", df['class'].nunique())\n",
    "print(\"Years in the dataset:\", sorted(df['year'].unique()))\n",
    "\n",
    "display(df.sample(10))\n"
   ]
  },
  {
   "cell_type": "code",
   "execution_count": 4,
   "id": "23239129",
   "metadata": {},
   "outputs": [
    {
     "data": {
      "image/png": "[encoded data removed]",
      "text/plain": [
       "<Figure size 1000x400 with 1 Axes>"
      ]
     },
     "metadata": {},
     "output_type": "display_data"
    },
    {
     "data": {
      "image/png": "[encoded data removed]",
      "text/plain": [
       "<Figure size 1000x400 with 1 Axes>"
      ]
     },
     "metadata": {},
     "output_type": "display_data"
    }
   ],
   "source": [
    "# Plot the distribution of samples across classes to identify any class imbalance, which can affect training and evaluation.\n",
    "plt.figure(figsize=(10,4))\n",
    "sns.countplot(x='class', data=df)\n",
    "plt.title('Distribution by Class')\n",
    "plt.xlabel('Class')\n",
    "plt.ylabel('Count')\n",
    "plt.show()\n",
    "\n",
    "# Plot the distribution of samples by year to check for temporal patterns or data skews that may influence model generalization.\n",
    "plt.figure(figsize=(10,4))\n",
    "sns.countplot(x='year', data=df)\n",
    "plt.title('Distribution by Year')\n",
    "plt.xlabel('Year')\n",
    "plt.ylabel('Count')\n",
    "plt.show()\n"
   ]
  },
  {
   "cell_type": "code",
   "execution_count": 5,
   "id": "12ee5d8c",
   "metadata": {},
   "outputs": [
    {
     "name": "stdout",
     "output_type": "stream",
     "text": [
      "Average text length (characters): 99.16521334353425\n",
      "Median text length (characters): 94.0\n",
      "Average text length (words): 14.576990791523409\n",
      "Median text length (words): 14.0\n"
     ]
    }
   ],
   "source": [
    "# Compute the length of each text in characters; this helps in understanding text size variability and guides preprocessing (e.g., max sequence length for BERT).\n",
    "df['text_len_chars'] = df['text'].str.len()\n",
    "\n",
    "# Compute the length of each text in words to get additional statistics about text complexity and to compare with character-based length.\n",
    "df['text_len_words'] = df['text'].str.split().apply(len)\n",
    "\n",
    "# Output average and median values to summarize dataset and support decisions on padding/truncation for modeling.\n",
    "print(\"Average text length (characters):\", df['text_len_chars'].mean())\n",
    "print(\"Median text length (characters):\", df['text_len_chars'].median())\n",
    "print(\"Average text length (words):\", df['text_len_words'].mean())\n",
    "print(\"Median text length (words):\", df['text_len_words'].median())\n"
   ]
  },
  {
   "cell_type": "markdown",
   "id": "b861554a",
   "metadata": {},
   "source": [
    "### Summary of Data Exploration\n",
    "\n",
    "- The dataset shows a strong class imbalance:\n",
    "  - Classes 0 and 12 are much more frequent than others.\n",
    "  - Several classes (such as 5, 7, 13, 15, and 20) have very few samples, which may lead to poor generalization for these classes.\n",
    "- The average text is short (~99 characters or ~14 words).\n",
    "- Year distribution is skewed toward earlier years (2013–2014).\n",
    "\n",
    "**To mitigate the impact of class imbalance, we will:**\n",
    "- Use stratified train/validation split to preserve class proportions during training and evaluation.\n",
    "- Monitor not only overall accuracy but also macro-F1 and the confusion matrix to assess performance across all classes, including minority ones.\n",
    "- Consider implementing class weights in the loss function if we observe poor recognition of rare classes during validation.\n"
   ]
  },
  {
   "cell_type": "markdown",
   "id": "c80c3265",
   "metadata": {},
   "source": [
    "## 2. Text Cleaning and Basic Preprocessing\n",
    "\n",
    "In this section:\n",
    "- Convert all texts to lowercase.\n",
    "- Remove special characters, keeping only letters, numbers, and spaces.\n",
    "- Stopwords (including Catalan function words) are intentionally preserved, as transformer-based models benefit from full sentence structure.\n",
    "- Analyze how text cleaning affects text length and update statistics."
   ]
  },
  {
   "cell_type": "code",
   "execution_count": 6,
   "id": "9ac0e474",
   "metadata": {},
   "outputs": [],
   "source": [
    "def clean_text(text):\n",
    "    # Convert all characters to lowercase for normalization and to reduce vocabulary size for the model.\n",
    "    text = text.lower()\n",
    "    # Remove all characters except letters (including accented), digits, and spaces to standardize input for tokenization.\n",
    "    text = re.sub(r'[^a-zà-ÿ0-9\\s]', '', text)\n",
    "    # Replace multiple consecutive spaces with a single space and trim edges to avoid artificial token inflation.\n",
    "    text = re.sub(r'\\s+', ' ', text).strip()\n",
    "    return text"
   ]
  },
  {
   "cell_type": "code",
   "execution_count": 7,
   "id": "e62e7994",
   "metadata": {},
   "outputs": [],
   "source": [
    "df['clean_text'] = df['text'].apply(clean_text)"
   ]
  },
  {
   "cell_type": "markdown",
   "id": "c5213cc2",
   "metadata": {},
   "source": [
    "### Analyze the Effect of Text Cleaning\n",
    "\n",
    "Compare average and median lengths of original and cleaned texts to understand the impact of preprocessing.\n"
   ]
  },
  {
   "cell_type": "code",
   "execution_count": 8,
   "id": "b71f9cf6",
   "metadata": {},
   "outputs": [
    {
     "name": "stdout",
     "output_type": "stream",
     "text": [
      "Average cleaned text length (characters): 96.20189515794519\n",
      "Median cleaned text length (characters): 92.0\n",
      "Average cleaned text length (words): 14.565832772590264\n",
      "Median cleaned text length (words): 14.0\n"
     ]
    }
   ],
   "source": [
    "# Recalculate character and word lengths after cleaning to check if cleaning significantly shortens the text or changes its structure.\n",
    "df['clean_len_chars'] = df['clean_text'].str.len()\n",
    "df['clean_len_words'] = df['clean_text'].str.split().apply(len)\n",
    "\n",
    "# Print updated statistics to support decisions about input sequence length for the model.\n",
    "print(\"Average cleaned text length (characters):\", df['clean_len_chars'].mean())\n",
    "print(\"Median cleaned text length (characters):\", df['clean_len_chars'].median())\n",
    "print(\"Average cleaned text length (words):\", df['clean_len_words'].mean())\n",
    "print(\"Median cleaned text length (words):\", df['clean_len_words'].median())\n"
   ]
  },
  {
   "cell_type": "markdown",
   "id": "980f1d2c",
   "metadata": {},
   "source": [
    "### Conclusion\n",
    "\n",
    "No significant changes in text length after cleaning.\n"
   ]
  },
  {
   "cell_type": "markdown",
   "id": "37ba5c1d",
   "metadata": {},
   "source": [
    "## 3. Train/Validation Split\n",
    "\n",
    "We perform a stratified split to preserve class proportions in both the training and validation sets, which helps mitigate class imbalance during model training and evaluation.\n"
   ]
  },
  {
   "cell_type": "code",
   "execution_count": 9,
   "id": "7dfdc925",
   "metadata": {},
   "outputs": [
    {
     "name": "stdout",
     "output_type": "stream",
     "text": [
      "Training samples: 173579\n",
      "Validation samples: 43395\n"
     ]
    }
   ],
   "source": [
    "train_df, val_df = train_test_split(\n",
    "    df, \n",
    "    test_size=0.2, \n",
    "    stratify=df['class'], \n",
    "    random_state=2025\n",
    ")\n",
    "\n",
    "# Rename target column to 'labels' for Trainer compatibility\n",
    "train_df = train_df.rename(columns={\"class\": \"labels\"})\n",
    "val_df   = val_df.rename(columns={\"class\": \"labels\"})\n",
    "\n",
    "print(\"Training samples:\", len(train_df))\n",
    "print(\"Validation samples:\", len(val_df))"
   ]
  },
  {
   "cell_type": "markdown",
   "id": "6efabcd7",
   "metadata": {},
   "source": [
    "## 4. Tokenization and Preparation for Training\n",
    "\n",
    "- Select a BERT model en catalan\n",
    "- Load the tokenizer using AutoTokenizer.\n",
    "- Tokenize the texts and prepare PyTorch datasets for the Trainer.\n"
   ]
  },
  {
   "cell_type": "code",
   "execution_count": 10,
   "id": "ff4e61da",
   "metadata": {},
   "outputs": [
    {
     "data": {
      "application/vnd.jupyter.widget-view+json": {
       "model_id": "0bd2290d45b1407cb429d7e5d92238b7",
       "version_major": 2,
       "version_minor": 0
      },
      "text/plain": [
       "Map:   0%|          | 0/173579 [00:00<?, ? examples/s]"
      ]
     },
     "metadata": {},
     "output_type": "display_data"
    },
    {
     "data": {
      "application/vnd.jupyter.widget-view+json": {
       "model_id": "d6681aa23dd84b92b6a3cdbcd96b53f1",
       "version_major": 2,
       "version_minor": 0
      },
      "text/plain": [
       "Map:   0%|          | 0/43395 [00:00<?, ? examples/s]"
      ]
     },
     "metadata": {},
     "output_type": "display_data"
    }
   ],
   "source": [
    "model_checkpoint = \"PlanTL-GOB-ES/roberta-base-ca\"\n",
    "\n",
    "# Load the pretrained BERT tokenizer to convert texts into input IDs and attention masks.\n",
    "tokenizer = AutoTokenizer.from_pretrained(model_checkpoint)\n",
    "\n",
    "max_length = 32  # Chosen based on the actual distribution: most texts have <= 14 words, 32 covers almost all cases.\n",
    "\n",
    "def tokenize_batch(batch):\n",
    "    # Tokenize texts, truncating or padding to a fixed max_length for batch processing.\n",
    "    return tokenizer(\n",
    "        batch[\"clean_text\"], \n",
    "        padding=\"max_length\", \n",
    "        truncation=True, \n",
    "        max_length=max_length\n",
    "    )\n",
    "\n",
    "# Prepare data for HuggingFace Trainer by converting DataFrame to Dataset.\n",
    "train_dataset = Dataset.from_pandas(train_df)\n",
    "val_dataset = Dataset.from_pandas(val_df)\n",
    "\n",
    "# Apply tokenization to the datasets.\n",
    "train_dataset = train_dataset.map(tokenize_batch, batched=True)\n",
    "val_dataset = val_dataset.map(tokenize_batch, batched=True)\n"
   ]
  },
  {
   "cell_type": "markdown",
   "id": "6698e84c",
   "metadata": {},
   "source": [
    "## 5. Model Building and Training\n",
    "\n",
    "- Load the RoBERTa-base Catalan model (`PlanTL-GOB-ES/roberta-base-ca`) for sequence classification (21 output classes).\n",
    "- Define training parameters with TrainingArguments.\n",
    "- Train the model using Huggingface Trainer.\n",
    "- Save the best model checkpoint based on validation accuracy.\n"
   ]
  },
  {
   "cell_type": "code",
   "execution_count": 11,
   "id": "e29a2d70",
   "metadata": {},
   "outputs": [
    {
     "name": "stderr",
     "output_type": "stream",
     "text": [
      "Some weights of RobertaForSequenceClassification were not initialized from the model checkpoint at PlanTL-GOB-ES/roberta-base-ca and are newly initialized: ['classifier.dense.bias', 'classifier.dense.weight', 'classifier.out_proj.bias', 'classifier.out_proj.weight']\n",
      "You should probably TRAIN this model on a down-stream task to be able to use it for predictions and inference.\n",
      "/mnt/shared/Documentos/Master/neuro/projext/neuro/lib/python3.10/site-packages/transformers/training_args.py:1474: FutureWarning: `evaluation_strategy` is deprecated and will be removed in version 4.46 of 🤗 Transformers. Use `eval_strategy` instead\n",
      "  warnings.warn(\n"
     ]
    }
   ],
   "source": [
    "# Use the Catalan RoBERTa-base model for sequence classification\n",
    "model_checkpoint = \"PlanTL-GOB-ES/roberta-base-ca\"\n",
    "\n",
    "tokenizer = AutoTokenizer.from_pretrained(model_checkpoint)\n",
    "model = AutoModelForSequenceClassification.from_pretrained(model_checkpoint, num_labels=21)\n",
    "\n",
    "training_args = TrainingArguments(\n",
    "    output_dir='./roberta-ca-results',\n",
    "    evaluation_strategy='epoch',\n",
    "    save_strategy='epoch',\n",
    "    save_total_limit=1,\n",
    "    per_device_train_batch_size=16,\n",
    "    per_device_eval_batch_size=32,\n",
    "    num_train_epochs=3,\n",
    "    learning_rate=2e-5,\n",
    "    load_best_model_at_end=True,\n",
    "    metric_for_best_model='accuracy',\n",
    "    greater_is_better=True,\n",
    "    logging_dir='./logs',\n",
    "    logging_steps=100,\n",
    "    report_to=\"none\",\n",
    "    seed=42\n",
    ")\n"
   ]
  },
  {
   "cell_type": "code",
   "execution_count": null,
   "id": "0566d1d9",
   "metadata": {},
   "outputs": [
    {
     "name": "stdout",
     "output_type": "stream",
     "text": [
      "Unique labels in train: [0, 1, 2, 3, 4, 5, 6, 7, 8, 9, 10, 11, 12, 13, 14, 15, 16, 17, 18, 19, 20]\n",
      "Train labels dtype: <class 'int'>\n",
      "Label distribution: Counter({0: 31696, 12: 23982, 14: 13936, 15: 13922, 17: 12954, 2: 10620, 9: 9504, 6: 9322, 3: 9144, 19: 6959, 10: 6641, 8: 6113, 18: 3782, 16: 3540, 13: 3408, 4: 2868, 20: 1630, 1: 1547, 7: 801, 5: 672, 11: 538})\n"
     ]
    },
    {
     "data": {
      "application/vnd.jupyter.widget-view+json": {
       "model_id": "64787545c15748e390fcdb4255cdb3e9",
       "version_major": 2,
       "version_minor": 0
      },
      "text/plain": [
       "  0%|          | 0/32547 [00:00<?, ?it/s]"
      ]
     },
     "metadata": {},
     "output_type": "display_data"
    },
    {
     "name": "stdout",
     "output_type": "stream",
     "text": [
      "{'loss': 2.1781, 'grad_norm': 2.9904849529266357, 'learning_rate': 1.9938550404031096e-05, 'epoch': 0.01}\n",
      "{'loss': 1.0496, 'grad_norm': 4.346735954284668, 'learning_rate': 1.9877100808062188e-05, 'epoch': 0.02}\n",
      "{'loss': 0.6725, 'grad_norm': 5.5642008781433105, 'learning_rate': 1.9815651212093282e-05, 'epoch': 0.03}\n",
      "{'loss': 0.5001, 'grad_norm': 2.14245343208313, 'learning_rate': 1.9754201616124377e-05, 'epoch': 0.04}\n",
      "{'loss': 0.408, 'grad_norm': 3.248873472213745, 'learning_rate': 1.969275202015547e-05, 'epoch': 0.05}\n",
      "{'loss': 0.3617, 'grad_norm': 4.564384460449219, 'learning_rate': 1.9631302424186563e-05, 'epoch': 0.06}\n",
      "{'loss': 0.3708, 'grad_norm': 6.609285831451416, 'learning_rate': 1.9569852828217658e-05, 'epoch': 0.06}\n",
      "{'loss': 0.2828, 'grad_norm': 3.042863368988037, 'learning_rate': 1.950840323224875e-05, 'epoch': 0.07}\n",
      "{'loss': 0.2944, 'grad_norm': 6.309263229370117, 'learning_rate': 1.9446953636279844e-05, 'epoch': 0.08}\n",
      "{'loss': 0.2798, 'grad_norm': 5.327764987945557, 'learning_rate': 1.9385504040310935e-05, 'epoch': 0.09}\n",
      "{'loss': 0.2761, 'grad_norm': 0.4340299069881439, 'learning_rate': 1.932405444434203e-05, 'epoch': 0.1}\n",
      "{'loss': 0.2261, 'grad_norm': 0.5682579278945923, 'learning_rate': 1.9262604848373125e-05, 'epoch': 0.11}\n",
      "{'loss': 0.2285, 'grad_norm': 2.396538496017456, 'learning_rate': 1.920115525240422e-05, 'epoch': 0.12}\n",
      "{'loss': 0.1953, 'grad_norm': 11.703296661376953, 'learning_rate': 1.913970565643531e-05, 'epoch': 0.13}\n",
      "{'loss': 0.2354, 'grad_norm': 9.471325874328613, 'learning_rate': 1.9078256060466405e-05, 'epoch': 0.14}\n",
      "{'loss': 0.2476, 'grad_norm': 0.4170765280723572, 'learning_rate': 1.9016806464497497e-05, 'epoch': 0.15}\n",
      "{'loss': 0.2055, 'grad_norm': 0.31761324405670166, 'learning_rate': 1.895535686852859e-05, 'epoch': 0.16}\n",
      "{'loss': 0.2527, 'grad_norm': 0.8564635515213013, 'learning_rate': 1.8893907272559683e-05, 'epoch': 0.17}\n",
      "{'loss': 0.2354, 'grad_norm': 0.4899093806743622, 'learning_rate': 1.8832457676590777e-05, 'epoch': 0.18}\n",
      "{'loss': 0.2121, 'grad_norm': 6.984873294830322, 'learning_rate': 1.8771008080621872e-05, 'epoch': 0.18}\n",
      "{'loss': 0.2013, 'grad_norm': 1.2798782587051392, 'learning_rate': 1.8709558484652967e-05, 'epoch': 0.19}\n",
      "{'loss': 0.203, 'grad_norm': 1.8876811265945435, 'learning_rate': 1.8648108888684058e-05, 'epoch': 0.2}\n",
      "{'loss': 0.2326, 'grad_norm': 10.577826499938965, 'learning_rate': 1.8586659292715153e-05, 'epoch': 0.21}\n",
      "{'loss': 0.1694, 'grad_norm': 8.407922744750977, 'learning_rate': 1.8525209696746244e-05, 'epoch': 0.22}\n",
      "{'loss': 0.1833, 'grad_norm': 6.501639366149902, 'learning_rate': 1.846376010077734e-05, 'epoch': 0.23}\n",
      "{'loss': 0.2072, 'grad_norm': 9.838671684265137, 'learning_rate': 1.840231050480843e-05, 'epoch': 0.24}\n",
      "{'loss': 0.1719, 'grad_norm': 0.9477401971817017, 'learning_rate': 1.8340860908839525e-05, 'epoch': 0.25}\n",
      "{'loss': 0.1711, 'grad_norm': 0.14256955683231354, 'learning_rate': 1.827941131287062e-05, 'epoch': 0.26}\n",
      "{'loss': 0.1806, 'grad_norm': 1.2199989557266235, 'learning_rate': 1.8217961716901714e-05, 'epoch': 0.27}\n",
      "{'loss': 0.1911, 'grad_norm': 2.2708523273468018, 'learning_rate': 1.8156512120932806e-05, 'epoch': 0.28}\n",
      "{'loss': 0.2413, 'grad_norm': 3.463787317276001, 'learning_rate': 1.80950625249639e-05, 'epoch': 0.29}\n",
      "{'loss': 0.1877, 'grad_norm': 1.1612483263015747, 'learning_rate': 1.8033612928994992e-05, 'epoch': 0.29}\n",
      "{'loss': 0.1804, 'grad_norm': 4.45857048034668, 'learning_rate': 1.7972163333026086e-05, 'epoch': 0.3}\n",
      "{'loss': 0.1471, 'grad_norm': 0.1735467165708542, 'learning_rate': 1.7910713737057178e-05, 'epoch': 0.31}\n",
      "{'loss': 0.2151, 'grad_norm': 4.738459587097168, 'learning_rate': 1.7849264141088272e-05, 'epoch': 0.32}\n",
      "{'loss': 0.1985, 'grad_norm': 1.8212511539459229, 'learning_rate': 1.7787814545119367e-05, 'epoch': 0.33}\n",
      "{'loss': 0.2004, 'grad_norm': 0.14736832678318024, 'learning_rate': 1.7726364949150462e-05, 'epoch': 0.34}\n"
     ]
    }
   ],
   "source": [
    "def compute_metrics(eval_pred):\n",
    "    logits, labels = eval_pred\n",
    "    preds = np.argmax(logits, axis=-1)\n",
    "    # Evaluate classification accuracy for validation, as required by project grading.\n",
    "    return {\"accuracy\": accuracy_score(labels, preds)}\n",
    "\n",
    "trainer = Trainer(\n",
    "    model=model,\n",
    "    args=training_args,\n",
    "    train_dataset=train_dataset,\n",
    "    eval_dataset=val_dataset,\n",
    "    compute_metrics=compute_metrics\n",
    ")\n",
    "\n",
    "trainer.train()\n",
    "\n",
    "# Save the best model for later inference and submission.\n",
    "trainer.save_model(\"./best_roberta_ca_model\")\n"
   ]
  }
 ],
 "metadata": {
  "kernelspec": {
   "display_name": "neuro",
   "language": "python",
   "name": "python3"
  },
  "language_info": {
   "codemirror_mode": {
    "name": "ipython",
    "version": 3
   },
   "file_extension": ".py",
   "mimetype": "text/x-python",
   "name": "python",
   "nbconvert_exporter": "python",
   "pygments_lexer": "ipython3",
   "version": "3.10.18"
  }
 },
 "nbformat": 4,
 "nbformat_minor": 5
}
